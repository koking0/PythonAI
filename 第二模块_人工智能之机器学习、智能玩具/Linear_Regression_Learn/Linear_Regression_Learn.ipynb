{
 "cells": [
  {
   "cell_type": "markdown",
   "metadata": {
    "collapsed": true,
    "pycharm": {
     "is_executing": false
    }
   },
   "source": [
    "# 线性回归"
   ]
  },
  {
   "cell_type": "markdown",
   "metadata": {},
   "source": [
    "## 美国房价问题\n",
    "\n",
    "Alex经过一年的努力，终于拿到了美国波士顿麻省理工学院的研究生录取通知书，在远离家乡的地方上学，Alex想在波士顿买一套房子，他手头有一些积蓄，在网上找了几套自己满意的房子，但是又不敢相信网上的价格，人生地不熟的，Alex怕被宰，就从自己做数据分析的朋友Bachelor手里要到了过去几年一些有关波士顿房价的资料。\n",
    "\n",
    "![](https://storage.googleapis.com/kaggle-competitions/kaggle/5315/logos/front_page.png)"
   ]
  },
  {
   "cell_type": "code",
   "execution_count": 1,
   "metadata": {
    "pycharm": {
     "is_executing": false
    }
   },
   "outputs": [],
   "source": [
    "import numpy as np\n",
    "import pandas as pd\n",
    "import seaborn as sns\n",
    "import matplotlib.pyplot as plt"
   ]
  },
  {
   "cell_type": "code",
   "execution_count": 2,
   "metadata": {
    "pycharm": {
     "is_executing": false
    }
   },
   "outputs": [
    {
     "name": "stdout",
     "output_type": "stream",
     "text": [
      " 驱动器 G 中的卷是 Code\n",
      " 卷的序列号是 AC81-1911\n",
      "\n",
      " G:\\Python\\PythonAI\\第二模块_人工智能之机器学习、智能玩具\\Linear_Regression_Learn 的目录\n",
      "\n",
      "2020/02/02  21:39    <DIR>          .\n",
      "2020/02/02  21:39    <DIR>          ..\n",
      "2020/01/27  09:01    <DIR>          .ipynb_checkpoints\n",
      "2019/12/15  21:33            13,370 data_description.txt\n",
      "2020/02/02  21:39           209,869 Linear_Regression_Learn.ipynb\n",
      "2019/12/15  21:33            31,939 sample_submission.csv\n",
      "2019/12/15  21:33           451,405 test.csv\n",
      "2019/12/15  21:33           460,676 train.csv\n",
      "               5 个文件      1,167,259 字节\n",
      "               3 个目录 92,071,428,096 可用字节\n"
     ]
    }
   ],
   "source": [
    "!dir"
   ]
  },
  {
   "cell_type": "code",
   "execution_count": 3,
   "metadata": {
    "pycharm": {
     "is_executing": false
    }
   },
   "outputs": [],
   "source": [
    "house_prices = pd.read_csv(\"train.csv\")"
   ]
  },
  {
   "cell_type": "markdown",
   "metadata": {},
   "source": [
    "Bachelor给的数据非常非常多，包含各个方面。"
   ]
  },
  {
   "cell_type": "code",
   "execution_count": 4,
   "metadata": {
    "pycharm": {
     "is_executing": false
    }
   },
   "outputs": [
    {
     "data": {
      "text/html": [
       "<div>\n",
       "<style scoped>\n",
       "    .dataframe tbody tr th:only-of-type {\n",
       "        vertical-align: middle;\n",
       "    }\n",
       "\n",
       "    .dataframe tbody tr th {\n",
       "        vertical-align: top;\n",
       "    }\n",
       "\n",
       "    .dataframe thead th {\n",
       "        text-align: right;\n",
       "    }\n",
       "</style>\n",
       "<table border=\"1\" class=\"dataframe\">\n",
       "  <thead>\n",
       "    <tr style=\"text-align: right;\">\n",
       "      <th></th>\n",
       "      <th>Id</th>\n",
       "      <th>MSSubClass</th>\n",
       "      <th>MSZoning</th>\n",
       "      <th>LotFrontage</th>\n",
       "      <th>LotArea</th>\n",
       "      <th>Street</th>\n",
       "      <th>Alley</th>\n",
       "      <th>LotShape</th>\n",
       "      <th>LandContour</th>\n",
       "      <th>Utilities</th>\n",
       "      <th>...</th>\n",
       "      <th>PoolArea</th>\n",
       "      <th>PoolQC</th>\n",
       "      <th>Fence</th>\n",
       "      <th>MiscFeature</th>\n",
       "      <th>MiscVal</th>\n",
       "      <th>MoSold</th>\n",
       "      <th>YrSold</th>\n",
       "      <th>SaleType</th>\n",
       "      <th>SaleCondition</th>\n",
       "      <th>SalePrice</th>\n",
       "    </tr>\n",
       "  </thead>\n",
       "  <tbody>\n",
       "    <tr>\n",
       "      <th>0</th>\n",
       "      <td>1</td>\n",
       "      <td>60</td>\n",
       "      <td>RL</td>\n",
       "      <td>65.0</td>\n",
       "      <td>8450</td>\n",
       "      <td>Pave</td>\n",
       "      <td>NaN</td>\n",
       "      <td>Reg</td>\n",
       "      <td>Lvl</td>\n",
       "      <td>AllPub</td>\n",
       "      <td>...</td>\n",
       "      <td>0</td>\n",
       "      <td>NaN</td>\n",
       "      <td>NaN</td>\n",
       "      <td>NaN</td>\n",
       "      <td>0</td>\n",
       "      <td>2</td>\n",
       "      <td>2008</td>\n",
       "      <td>WD</td>\n",
       "      <td>Normal</td>\n",
       "      <td>208500</td>\n",
       "    </tr>\n",
       "    <tr>\n",
       "      <th>1</th>\n",
       "      <td>2</td>\n",
       "      <td>20</td>\n",
       "      <td>RL</td>\n",
       "      <td>80.0</td>\n",
       "      <td>9600</td>\n",
       "      <td>Pave</td>\n",
       "      <td>NaN</td>\n",
       "      <td>Reg</td>\n",
       "      <td>Lvl</td>\n",
       "      <td>AllPub</td>\n",
       "      <td>...</td>\n",
       "      <td>0</td>\n",
       "      <td>NaN</td>\n",
       "      <td>NaN</td>\n",
       "      <td>NaN</td>\n",
       "      <td>0</td>\n",
       "      <td>5</td>\n",
       "      <td>2007</td>\n",
       "      <td>WD</td>\n",
       "      <td>Normal</td>\n",
       "      <td>181500</td>\n",
       "    </tr>\n",
       "    <tr>\n",
       "      <th>2</th>\n",
       "      <td>3</td>\n",
       "      <td>60</td>\n",
       "      <td>RL</td>\n",
       "      <td>68.0</td>\n",
       "      <td>11250</td>\n",
       "      <td>Pave</td>\n",
       "      <td>NaN</td>\n",
       "      <td>IR1</td>\n",
       "      <td>Lvl</td>\n",
       "      <td>AllPub</td>\n",
       "      <td>...</td>\n",
       "      <td>0</td>\n",
       "      <td>NaN</td>\n",
       "      <td>NaN</td>\n",
       "      <td>NaN</td>\n",
       "      <td>0</td>\n",
       "      <td>9</td>\n",
       "      <td>2008</td>\n",
       "      <td>WD</td>\n",
       "      <td>Normal</td>\n",
       "      <td>223500</td>\n",
       "    </tr>\n",
       "    <tr>\n",
       "      <th>3</th>\n",
       "      <td>4</td>\n",
       "      <td>70</td>\n",
       "      <td>RL</td>\n",
       "      <td>60.0</td>\n",
       "      <td>9550</td>\n",
       "      <td>Pave</td>\n",
       "      <td>NaN</td>\n",
       "      <td>IR1</td>\n",
       "      <td>Lvl</td>\n",
       "      <td>AllPub</td>\n",
       "      <td>...</td>\n",
       "      <td>0</td>\n",
       "      <td>NaN</td>\n",
       "      <td>NaN</td>\n",
       "      <td>NaN</td>\n",
       "      <td>0</td>\n",
       "      <td>2</td>\n",
       "      <td>2006</td>\n",
       "      <td>WD</td>\n",
       "      <td>Abnorml</td>\n",
       "      <td>140000</td>\n",
       "    </tr>\n",
       "    <tr>\n",
       "      <th>4</th>\n",
       "      <td>5</td>\n",
       "      <td>60</td>\n",
       "      <td>RL</td>\n",
       "      <td>84.0</td>\n",
       "      <td>14260</td>\n",
       "      <td>Pave</td>\n",
       "      <td>NaN</td>\n",
       "      <td>IR1</td>\n",
       "      <td>Lvl</td>\n",
       "      <td>AllPub</td>\n",
       "      <td>...</td>\n",
       "      <td>0</td>\n",
       "      <td>NaN</td>\n",
       "      <td>NaN</td>\n",
       "      <td>NaN</td>\n",
       "      <td>0</td>\n",
       "      <td>12</td>\n",
       "      <td>2008</td>\n",
       "      <td>WD</td>\n",
       "      <td>Normal</td>\n",
       "      <td>250000</td>\n",
       "    </tr>\n",
       "    <tr>\n",
       "      <th>...</th>\n",
       "      <td>...</td>\n",
       "      <td>...</td>\n",
       "      <td>...</td>\n",
       "      <td>...</td>\n",
       "      <td>...</td>\n",
       "      <td>...</td>\n",
       "      <td>...</td>\n",
       "      <td>...</td>\n",
       "      <td>...</td>\n",
       "      <td>...</td>\n",
       "      <td>...</td>\n",
       "      <td>...</td>\n",
       "      <td>...</td>\n",
       "      <td>...</td>\n",
       "      <td>...</td>\n",
       "      <td>...</td>\n",
       "      <td>...</td>\n",
       "      <td>...</td>\n",
       "      <td>...</td>\n",
       "      <td>...</td>\n",
       "      <td>...</td>\n",
       "    </tr>\n",
       "    <tr>\n",
       "      <th>1455</th>\n",
       "      <td>1456</td>\n",
       "      <td>60</td>\n",
       "      <td>RL</td>\n",
       "      <td>62.0</td>\n",
       "      <td>7917</td>\n",
       "      <td>Pave</td>\n",
       "      <td>NaN</td>\n",
       "      <td>Reg</td>\n",
       "      <td>Lvl</td>\n",
       "      <td>AllPub</td>\n",
       "      <td>...</td>\n",
       "      <td>0</td>\n",
       "      <td>NaN</td>\n",
       "      <td>NaN</td>\n",
       "      <td>NaN</td>\n",
       "      <td>0</td>\n",
       "      <td>8</td>\n",
       "      <td>2007</td>\n",
       "      <td>WD</td>\n",
       "      <td>Normal</td>\n",
       "      <td>175000</td>\n",
       "    </tr>\n",
       "    <tr>\n",
       "      <th>1456</th>\n",
       "      <td>1457</td>\n",
       "      <td>20</td>\n",
       "      <td>RL</td>\n",
       "      <td>85.0</td>\n",
       "      <td>13175</td>\n",
       "      <td>Pave</td>\n",
       "      <td>NaN</td>\n",
       "      <td>Reg</td>\n",
       "      <td>Lvl</td>\n",
       "      <td>AllPub</td>\n",
       "      <td>...</td>\n",
       "      <td>0</td>\n",
       "      <td>NaN</td>\n",
       "      <td>MnPrv</td>\n",
       "      <td>NaN</td>\n",
       "      <td>0</td>\n",
       "      <td>2</td>\n",
       "      <td>2010</td>\n",
       "      <td>WD</td>\n",
       "      <td>Normal</td>\n",
       "      <td>210000</td>\n",
       "    </tr>\n",
       "    <tr>\n",
       "      <th>1457</th>\n",
       "      <td>1458</td>\n",
       "      <td>70</td>\n",
       "      <td>RL</td>\n",
       "      <td>66.0</td>\n",
       "      <td>9042</td>\n",
       "      <td>Pave</td>\n",
       "      <td>NaN</td>\n",
       "      <td>Reg</td>\n",
       "      <td>Lvl</td>\n",
       "      <td>AllPub</td>\n",
       "      <td>...</td>\n",
       "      <td>0</td>\n",
       "      <td>NaN</td>\n",
       "      <td>GdPrv</td>\n",
       "      <td>Shed</td>\n",
       "      <td>2500</td>\n",
       "      <td>5</td>\n",
       "      <td>2010</td>\n",
       "      <td>WD</td>\n",
       "      <td>Normal</td>\n",
       "      <td>266500</td>\n",
       "    </tr>\n",
       "    <tr>\n",
       "      <th>1458</th>\n",
       "      <td>1459</td>\n",
       "      <td>20</td>\n",
       "      <td>RL</td>\n",
       "      <td>68.0</td>\n",
       "      <td>9717</td>\n",
       "      <td>Pave</td>\n",
       "      <td>NaN</td>\n",
       "      <td>Reg</td>\n",
       "      <td>Lvl</td>\n",
       "      <td>AllPub</td>\n",
       "      <td>...</td>\n",
       "      <td>0</td>\n",
       "      <td>NaN</td>\n",
       "      <td>NaN</td>\n",
       "      <td>NaN</td>\n",
       "      <td>0</td>\n",
       "      <td>4</td>\n",
       "      <td>2010</td>\n",
       "      <td>WD</td>\n",
       "      <td>Normal</td>\n",
       "      <td>142125</td>\n",
       "    </tr>\n",
       "    <tr>\n",
       "      <th>1459</th>\n",
       "      <td>1460</td>\n",
       "      <td>20</td>\n",
       "      <td>RL</td>\n",
       "      <td>75.0</td>\n",
       "      <td>9937</td>\n",
       "      <td>Pave</td>\n",
       "      <td>NaN</td>\n",
       "      <td>Reg</td>\n",
       "      <td>Lvl</td>\n",
       "      <td>AllPub</td>\n",
       "      <td>...</td>\n",
       "      <td>0</td>\n",
       "      <td>NaN</td>\n",
       "      <td>NaN</td>\n",
       "      <td>NaN</td>\n",
       "      <td>0</td>\n",
       "      <td>6</td>\n",
       "      <td>2008</td>\n",
       "      <td>WD</td>\n",
       "      <td>Normal</td>\n",
       "      <td>147500</td>\n",
       "    </tr>\n",
       "  </tbody>\n",
       "</table>\n",
       "<p>1460 rows × 81 columns</p>\n",
       "</div>"
      ],
      "text/plain": [
       "        Id  MSSubClass MSZoning  LotFrontage  LotArea Street Alley LotShape  \\\n",
       "0        1          60       RL         65.0     8450   Pave   NaN      Reg   \n",
       "1        2          20       RL         80.0     9600   Pave   NaN      Reg   \n",
       "2        3          60       RL         68.0    11250   Pave   NaN      IR1   \n",
       "3        4          70       RL         60.0     9550   Pave   NaN      IR1   \n",
       "4        5          60       RL         84.0    14260   Pave   NaN      IR1   \n",
       "...    ...         ...      ...          ...      ...    ...   ...      ...   \n",
       "1455  1456          60       RL         62.0     7917   Pave   NaN      Reg   \n",
       "1456  1457          20       RL         85.0    13175   Pave   NaN      Reg   \n",
       "1457  1458          70       RL         66.0     9042   Pave   NaN      Reg   \n",
       "1458  1459          20       RL         68.0     9717   Pave   NaN      Reg   \n",
       "1459  1460          20       RL         75.0     9937   Pave   NaN      Reg   \n",
       "\n",
       "     LandContour Utilities  ... PoolArea PoolQC  Fence MiscFeature MiscVal  \\\n",
       "0            Lvl    AllPub  ...        0    NaN    NaN         NaN       0   \n",
       "1            Lvl    AllPub  ...        0    NaN    NaN         NaN       0   \n",
       "2            Lvl    AllPub  ...        0    NaN    NaN         NaN       0   \n",
       "3            Lvl    AllPub  ...        0    NaN    NaN         NaN       0   \n",
       "4            Lvl    AllPub  ...        0    NaN    NaN         NaN       0   \n",
       "...          ...       ...  ...      ...    ...    ...         ...     ...   \n",
       "1455         Lvl    AllPub  ...        0    NaN    NaN         NaN       0   \n",
       "1456         Lvl    AllPub  ...        0    NaN  MnPrv         NaN       0   \n",
       "1457         Lvl    AllPub  ...        0    NaN  GdPrv        Shed    2500   \n",
       "1458         Lvl    AllPub  ...        0    NaN    NaN         NaN       0   \n",
       "1459         Lvl    AllPub  ...        0    NaN    NaN         NaN       0   \n",
       "\n",
       "     MoSold YrSold  SaleType  SaleCondition  SalePrice  \n",
       "0         2   2008        WD         Normal     208500  \n",
       "1         5   2007        WD         Normal     181500  \n",
       "2         9   2008        WD         Normal     223500  \n",
       "3         2   2006        WD        Abnorml     140000  \n",
       "4        12   2008        WD         Normal     250000  \n",
       "...     ...    ...       ...            ...        ...  \n",
       "1455      8   2007        WD         Normal     175000  \n",
       "1456      2   2010        WD         Normal     210000  \n",
       "1457      5   2010        WD         Normal     266500  \n",
       "1458      4   2010        WD         Normal     142125  \n",
       "1459      6   2008        WD         Normal     147500  \n",
       "\n",
       "[1460 rows x 81 columns]"
      ]
     },
     "execution_count": 4,
     "metadata": {},
     "output_type": "execute_result"
    }
   ],
   "source": [
    "house_prices"
   ]
  },
  {
   "cell_type": "markdown",
   "metadata": {},
   "source": [
    "为了方便分析呢，先提取其中三个特征作为分析素材，分别是LotArea表示房屋面积，TotalBsmtSF表示地下室的总面积，SalePrice表示的就是房价了。"
   ]
  },
  {
   "cell_type": "code",
   "execution_count": 5,
   "metadata": {
    "pycharm": {
     "is_executing": false
    }
   },
   "outputs": [
    {
     "data": {
      "text/html": [
       "<div>\n",
       "<style scoped>\n",
       "    .dataframe tbody tr th:only-of-type {\n",
       "        vertical-align: middle;\n",
       "    }\n",
       "\n",
       "    .dataframe tbody tr th {\n",
       "        vertical-align: top;\n",
       "    }\n",
       "\n",
       "    .dataframe thead th {\n",
       "        text-align: right;\n",
       "    }\n",
       "</style>\n",
       "<table border=\"1\" class=\"dataframe\">\n",
       "  <thead>\n",
       "    <tr style=\"text-align: right;\">\n",
       "      <th></th>\n",
       "      <th>LotArea</th>\n",
       "      <th>TotalBsmtSF</th>\n",
       "      <th>SalePrice</th>\n",
       "    </tr>\n",
       "  </thead>\n",
       "  <tbody>\n",
       "    <tr>\n",
       "      <th>0</th>\n",
       "      <td>8450</td>\n",
       "      <td>856</td>\n",
       "      <td>208500</td>\n",
       "    </tr>\n",
       "    <tr>\n",
       "      <th>1</th>\n",
       "      <td>9600</td>\n",
       "      <td>1262</td>\n",
       "      <td>181500</td>\n",
       "    </tr>\n",
       "    <tr>\n",
       "      <th>2</th>\n",
       "      <td>11250</td>\n",
       "      <td>920</td>\n",
       "      <td>223500</td>\n",
       "    </tr>\n",
       "    <tr>\n",
       "      <th>3</th>\n",
       "      <td>9550</td>\n",
       "      <td>756</td>\n",
       "      <td>140000</td>\n",
       "    </tr>\n",
       "    <tr>\n",
       "      <th>4</th>\n",
       "      <td>14260</td>\n",
       "      <td>1145</td>\n",
       "      <td>250000</td>\n",
       "    </tr>\n",
       "    <tr>\n",
       "      <th>...</th>\n",
       "      <td>...</td>\n",
       "      <td>...</td>\n",
       "      <td>...</td>\n",
       "    </tr>\n",
       "    <tr>\n",
       "      <th>1455</th>\n",
       "      <td>7917</td>\n",
       "      <td>953</td>\n",
       "      <td>175000</td>\n",
       "    </tr>\n",
       "    <tr>\n",
       "      <th>1456</th>\n",
       "      <td>13175</td>\n",
       "      <td>1542</td>\n",
       "      <td>210000</td>\n",
       "    </tr>\n",
       "    <tr>\n",
       "      <th>1457</th>\n",
       "      <td>9042</td>\n",
       "      <td>1152</td>\n",
       "      <td>266500</td>\n",
       "    </tr>\n",
       "    <tr>\n",
       "      <th>1458</th>\n",
       "      <td>9717</td>\n",
       "      <td>1078</td>\n",
       "      <td>142125</td>\n",
       "    </tr>\n",
       "    <tr>\n",
       "      <th>1459</th>\n",
       "      <td>9937</td>\n",
       "      <td>1256</td>\n",
       "      <td>147500</td>\n",
       "    </tr>\n",
       "  </tbody>\n",
       "</table>\n",
       "<p>1460 rows × 3 columns</p>\n",
       "</div>"
      ],
      "text/plain": [
       "      LotArea  TotalBsmtSF  SalePrice\n",
       "0        8450          856     208500\n",
       "1        9600         1262     181500\n",
       "2       11250          920     223500\n",
       "3        9550          756     140000\n",
       "4       14260         1145     250000\n",
       "...       ...          ...        ...\n",
       "1455     7917          953     175000\n",
       "1456    13175         1542     210000\n",
       "1457     9042         1152     266500\n",
       "1458     9717         1078     142125\n",
       "1459     9937         1256     147500\n",
       "\n",
       "[1460 rows x 3 columns]"
      ]
     },
     "execution_count": 5,
     "metadata": {},
     "output_type": "execute_result"
    }
   ],
   "source": [
    "house_prices[['LotArea', 'TotalBsmtSF', 'SalePrice']]"
   ]
  },
  {
   "cell_type": "markdown",
   "metadata": {},
   "source": [
    "理工科出生的Alex想起了曾经学过的知识，想计算一下自己喜欢的那几套房子的大概房价是多少，到买房的时候心里好有点数。\n",
    "\n",
    "于是他把数据重新处理了一下。"
   ]
  },
  {
   "cell_type": "code",
   "execution_count": 6,
   "metadata": {
    "pycharm": {
     "is_executing": false
    }
   },
   "outputs": [],
   "source": [
    "sample_test_data = house_prices[['LotArea', 'TotalBsmtSF', 'SalePrice']].copy()"
   ]
  },
  {
   "cell_type": "code",
   "execution_count": 7,
   "metadata": {
    "pycharm": {
     "is_executing": false
    }
   },
   "outputs": [],
   "source": [
    "sample_test_data.rename(columns={'LotArea':'x1', 'TotalBsmtSF':'x2', 'SalePrice':'y'}, inplace=True)"
   ]
  },
  {
   "cell_type": "code",
   "execution_count": 8,
   "metadata": {
    "pycharm": {
     "is_executing": false
    }
   },
   "outputs": [
    {
     "data": {
      "text/html": [
       "<div>\n",
       "<style scoped>\n",
       "    .dataframe tbody tr th:only-of-type {\n",
       "        vertical-align: middle;\n",
       "    }\n",
       "\n",
       "    .dataframe tbody tr th {\n",
       "        vertical-align: top;\n",
       "    }\n",
       "\n",
       "    .dataframe thead th {\n",
       "        text-align: right;\n",
       "    }\n",
       "</style>\n",
       "<table border=\"1\" class=\"dataframe\">\n",
       "  <thead>\n",
       "    <tr style=\"text-align: right;\">\n",
       "      <th></th>\n",
       "      <th>x1</th>\n",
       "      <th>x2</th>\n",
       "      <th>y</th>\n",
       "    </tr>\n",
       "  </thead>\n",
       "  <tbody>\n",
       "    <tr>\n",
       "      <th>0</th>\n",
       "      <td>8450</td>\n",
       "      <td>856</td>\n",
       "      <td>208500</td>\n",
       "    </tr>\n",
       "    <tr>\n",
       "      <th>1</th>\n",
       "      <td>9600</td>\n",
       "      <td>1262</td>\n",
       "      <td>181500</td>\n",
       "    </tr>\n",
       "    <tr>\n",
       "      <th>2</th>\n",
       "      <td>11250</td>\n",
       "      <td>920</td>\n",
       "      <td>223500</td>\n",
       "    </tr>\n",
       "    <tr>\n",
       "      <th>3</th>\n",
       "      <td>9550</td>\n",
       "      <td>756</td>\n",
       "      <td>140000</td>\n",
       "    </tr>\n",
       "    <tr>\n",
       "      <th>4</th>\n",
       "      <td>14260</td>\n",
       "      <td>1145</td>\n",
       "      <td>250000</td>\n",
       "    </tr>\n",
       "    <tr>\n",
       "      <th>...</th>\n",
       "      <td>...</td>\n",
       "      <td>...</td>\n",
       "      <td>...</td>\n",
       "    </tr>\n",
       "    <tr>\n",
       "      <th>1455</th>\n",
       "      <td>7917</td>\n",
       "      <td>953</td>\n",
       "      <td>175000</td>\n",
       "    </tr>\n",
       "    <tr>\n",
       "      <th>1456</th>\n",
       "      <td>13175</td>\n",
       "      <td>1542</td>\n",
       "      <td>210000</td>\n",
       "    </tr>\n",
       "    <tr>\n",
       "      <th>1457</th>\n",
       "      <td>9042</td>\n",
       "      <td>1152</td>\n",
       "      <td>266500</td>\n",
       "    </tr>\n",
       "    <tr>\n",
       "      <th>1458</th>\n",
       "      <td>9717</td>\n",
       "      <td>1078</td>\n",
       "      <td>142125</td>\n",
       "    </tr>\n",
       "    <tr>\n",
       "      <th>1459</th>\n",
       "      <td>9937</td>\n",
       "      <td>1256</td>\n",
       "      <td>147500</td>\n",
       "    </tr>\n",
       "  </tbody>\n",
       "</table>\n",
       "<p>1460 rows × 3 columns</p>\n",
       "</div>"
      ],
      "text/plain": [
       "         x1    x2       y\n",
       "0      8450   856  208500\n",
       "1      9600  1262  181500\n",
       "2     11250   920  223500\n",
       "3      9550   756  140000\n",
       "4     14260  1145  250000\n",
       "...     ...   ...     ...\n",
       "1455   7917   953  175000\n",
       "1456  13175  1542  210000\n",
       "1457   9042  1152  266500\n",
       "1458   9717  1078  142125\n",
       "1459   9937  1256  147500\n",
       "\n",
       "[1460 rows x 3 columns]"
      ]
     },
     "execution_count": 8,
     "metadata": {},
     "output_type": "execute_result"
    }
   ],
   "source": [
    "sample_test_data"
   ]
  },
  {
   "cell_type": "markdown",
   "metadata": {},
   "source": [
    "作为一名优秀的理科生，看见熟悉的x和y觉得舒服多了。\n",
    "\n",
    "接下来就是建立一个数学模型了，简单的说就是找一个符合x<sub>1</sub>、x<sub>2</sub>与y关系的式子，这个简单嘛，高中就学过的东西，待定系数法呗，只不过从一个x变成了x<sub>1</sub>、x<sub>2</sub>而已，那设两个未知数不就可以了。\n",
    "\n",
    "设：$$y=ax_1+b_x2$$\n",
    "\n",
    "这公式那么一写阿，瞅起来像是一个线性模型，简单理解也就是一条线嘛。\n",
    "\n",
    "再仔细一看，这条线还必须过原点，那就麻烦了，还不能确定这个x<sub>1</sub>、x<sub>2</sub>跟y组成的函数图像一定过原点阿，必须要经过原点这个限制可就太大了。\n",
    "\n",
    "没办法，再加一个未知数吧，把方程改成$$y=ax_1+b_x2+c$$\n",
    "\n",
    "这样以来，在没确定a、b、c之前，函数图像可以是空间中任意的。\n",
    "\n",
    "接下来就是把a、b、c确定下来了，只要它们三个确定下来就好办了，把自己喜欢的房子的平均房间数和到五个波士顿就业中心的平均距离直接代入x<sub>1</sub>、x<sub>2</sub>，不就能计算出来一个大概的房价y了么。\n",
    "\n",
    "看着\n",
    "\n",
    "$$y=ax_1+b_x2+c$$\n",
    "\n",
    "这个式子，Alex自己都笑了，这玩意是高中才写的方程，自己孬好也是上过大学的人，于是把方程又改了改:\n",
    "\n",
    "$$y=θ_1x_1+θ_2x_2+θ_0$$\n",
    "\n",
    "这样，如果跟房价有关的x特征很多的话，就能把方程写成矩阵相乘的形式了：\n",
    "\n",
    "$$y_\\theta(x)=\\theta_0x_0+\\theta_1x_1+\\theta_2x_2+...+\\theta_ix_i+...+\\theta_{n-1}x_{n-1}+\\theta_nx_n=\\sum_{i=0}^n=\\theta^Tx$$\n",
    "\n",
    "这个θ<sub>i</sub>阿，有个学名叫权重项。\n",
    "\n",
    "这个θ<sub>0</sub>x<sub>0</sub>呢,就是之前写的θ<sub>0</sub>,让x<sub>0</sub>=1不就是咯。\n",
    "\n",
    "也就是说，我得在我的数据里再加一行x<sub>0</sub>的数据，值全部设置为1就行了。"
   ]
  },
  {
   "cell_type": "code",
   "execution_count": 9,
   "metadata": {
    "pycharm": {
     "is_executing": false
    }
   },
   "outputs": [],
   "source": [
    "sample_test_data['x0'] = 1\n",
    "sample_test_data = sample_test_data[['y', 'x0', 'x1', 'x2']] # 更换一下y、x1、x2、x0的顺序，方便看而已，无意义"
   ]
  },
  {
   "cell_type": "code",
   "execution_count": 10,
   "metadata": {
    "pycharm": {
     "is_executing": false
    }
   },
   "outputs": [
    {
     "data": {
      "text/html": [
       "<div>\n",
       "<style scoped>\n",
       "    .dataframe tbody tr th:only-of-type {\n",
       "        vertical-align: middle;\n",
       "    }\n",
       "\n",
       "    .dataframe tbody tr th {\n",
       "        vertical-align: top;\n",
       "    }\n",
       "\n",
       "    .dataframe thead th {\n",
       "        text-align: right;\n",
       "    }\n",
       "</style>\n",
       "<table border=\"1\" class=\"dataframe\">\n",
       "  <thead>\n",
       "    <tr style=\"text-align: right;\">\n",
       "      <th></th>\n",
       "      <th>y</th>\n",
       "      <th>x0</th>\n",
       "      <th>x1</th>\n",
       "      <th>x2</th>\n",
       "    </tr>\n",
       "  </thead>\n",
       "  <tbody>\n",
       "    <tr>\n",
       "      <th>0</th>\n",
       "      <td>208500</td>\n",
       "      <td>1</td>\n",
       "      <td>8450</td>\n",
       "      <td>856</td>\n",
       "    </tr>\n",
       "    <tr>\n",
       "      <th>1</th>\n",
       "      <td>181500</td>\n",
       "      <td>1</td>\n",
       "      <td>9600</td>\n",
       "      <td>1262</td>\n",
       "    </tr>\n",
       "    <tr>\n",
       "      <th>2</th>\n",
       "      <td>223500</td>\n",
       "      <td>1</td>\n",
       "      <td>11250</td>\n",
       "      <td>920</td>\n",
       "    </tr>\n",
       "    <tr>\n",
       "      <th>3</th>\n",
       "      <td>140000</td>\n",
       "      <td>1</td>\n",
       "      <td>9550</td>\n",
       "      <td>756</td>\n",
       "    </tr>\n",
       "    <tr>\n",
       "      <th>4</th>\n",
       "      <td>250000</td>\n",
       "      <td>1</td>\n",
       "      <td>14260</td>\n",
       "      <td>1145</td>\n",
       "    </tr>\n",
       "    <tr>\n",
       "      <th>...</th>\n",
       "      <td>...</td>\n",
       "      <td>...</td>\n",
       "      <td>...</td>\n",
       "      <td>...</td>\n",
       "    </tr>\n",
       "    <tr>\n",
       "      <th>1455</th>\n",
       "      <td>175000</td>\n",
       "      <td>1</td>\n",
       "      <td>7917</td>\n",
       "      <td>953</td>\n",
       "    </tr>\n",
       "    <tr>\n",
       "      <th>1456</th>\n",
       "      <td>210000</td>\n",
       "      <td>1</td>\n",
       "      <td>13175</td>\n",
       "      <td>1542</td>\n",
       "    </tr>\n",
       "    <tr>\n",
       "      <th>1457</th>\n",
       "      <td>266500</td>\n",
       "      <td>1</td>\n",
       "      <td>9042</td>\n",
       "      <td>1152</td>\n",
       "    </tr>\n",
       "    <tr>\n",
       "      <th>1458</th>\n",
       "      <td>142125</td>\n",
       "      <td>1</td>\n",
       "      <td>9717</td>\n",
       "      <td>1078</td>\n",
       "    </tr>\n",
       "    <tr>\n",
       "      <th>1459</th>\n",
       "      <td>147500</td>\n",
       "      <td>1</td>\n",
       "      <td>9937</td>\n",
       "      <td>1256</td>\n",
       "    </tr>\n",
       "  </tbody>\n",
       "</table>\n",
       "<p>1460 rows × 4 columns</p>\n",
       "</div>"
      ],
      "text/plain": [
       "           y  x0     x1    x2\n",
       "0     208500   1   8450   856\n",
       "1     181500   1   9600  1262\n",
       "2     223500   1  11250   920\n",
       "3     140000   1   9550   756\n",
       "4     250000   1  14260  1145\n",
       "...      ...  ..    ...   ...\n",
       "1455  175000   1   7917   953\n",
       "1456  210000   1  13175  1542\n",
       "1457  266500   1   9042  1152\n",
       "1458  142125   1   9717  1078\n",
       "1459  147500   1   9937  1256\n",
       "\n",
       "[1460 rows x 4 columns]"
      ]
     },
     "execution_count": 10,
     "metadata": {},
     "output_type": "execute_result"
    }
   ],
   "source": [
    "sample_test_data"
   ]
  },
  {
   "cell_type": "markdown",
   "metadata": {},
   "source": [
    "毕竟阿，这个方程是咱自己写的，假设最后算出来了一套θ<sub>i</sub>，为了拟合大部分的数据，按照θ<sub>i</sub>计算出来的房价跟真实的房价之间还是有一定的差距的。\n",
    "\n",
    "如果说对比真实的房价数据，根据咱们这个方程计算出来的房价跟真实的房价相差无几，那不就是想要的结果么，我输入想要买的房子的x特征值，计算出来的房价y就越接近真实房价。\n",
    "\n",
    "当然这是后话，现在咱们的目的是啥，就是让通过咱们方程计算出来的房价跟真实的房价的差值越小越好嘛。\n",
    "\n",
    "$$y_{(i)}=\\theta^Tx_i+\\epsilon_i$$\n",
    "\n",
    "对于每一套房子，y<sub>(i)</sub>表示真实的房价，通过θ<sup>T</sup>x<sub>i</sub>计算出来的是模型预测房价，ε<sub>i</sub>是预测房价跟真实房价之间的差距，当然ε<sub>i</sub>有可能是正数也有可能是负数。"
   ]
  },
  {
   "cell_type": "markdown",
   "metadata": {},
   "source": [
    "目的什么来着，让差距越来越小对吧，也就是让ε<sub>i</sub>越来越小，当然这个越来越小是说差距越来越小，也就是绝对值越来越接近于0。\n",
    "\n",
    "给方程移下项：\n",
    "\n",
    "$$\\epsilon_i=y_{(i)}-\\theta^Tx_i$$\n",
    "\n",
    "这时候咱们再来回顾一下阿，对于方程\n",
    "\n",
    "$$y_{(i)}=\\theta^Tx_i+\\epsilon_i$$\n",
    "\n",
    "θ<sup>T</sup>x<sub>i</sub>是表示系数，如果在坐标系表示的话是由x确定一个图像。\n",
    "\n",
    "当只有一个x的时候，图像是一维的，也就是平面上的一条线；\n",
    "\n",
    "当有两个x的时候，图像是二维的，也就是空间里的一个面；\n",
    "\n",
    "当有更多x的时候，我是想象不出来了……\n",
    "\n",
    "就拿只有两个x举例随便画一个图像：\n",
    "\n",
    "![](https://img-blog.csdnimg.cn/20181212002251613.jpg?x-oss-process=image/watermark,type_ZmFuZ3poZW5naGVpdGk,shadow_10,text_aHR0cHM6Ly9ibG9nLmNzZG4ubmV0L3FxXzMwMTQ1MzU1,size_16,color_FFFFFF,t_70)"
   ]
  },
  {
   "cell_type": "markdown",
   "metadata": {},
   "source": [
    "在这个图像里，假设青蓝色的那个平面表示的就是θ<sup>T</sup>x<sub>i</sub>，真实房价y(i)在图中表示的红色的点。\n",
    "\n",
    "这样看就清晰了，目的是让\n",
    "\n",
    "$$\\epsilon_i=y_{(i)}-\\theta^Tx_i$$\n",
    "\n",
    "的绝对值越小越好，表示在图像上就是红色的点越接近青蓝色的平面越好。\n",
    "\n",
    "这里要明确一个思想，真实房价是确定了，也就是y<sub>(i)</sub>、红色的点是确定的，而青蓝色的平面θ<sup>T</sup>x<sub>i</sub>才是变动的，也就是说，在空间里，我们要移动平面来拟合点，找到哪一个平面到所有点的距离最小。\n",
    "\n",
    "这个预测房价与真实房价之间的距离，也就是误差ε<sub>(i)</sub>是独立并同分布，并且服从均值为0方差为σ<sup>2</sup>的高斯分布。\n",
    "\n",
    "这里突然间冒出来三个不熟悉的名词解释一下阿：\n",
    "\n",
    "独立：各个样本点之间是相互独立的。也就是说，Alex去波士顿买房，跟Bachelor早波士顿买房，只要两个人买的不是同一套房子，它们之间是没有关系的，买到的房价多少只跟各个房东有关。\n",
    "\n",
    "同分布：数据的来源必须相同。Alex是想在波士顿买房，所以需要的是过去几年波士顿的房价数据，如果拿得是纽约的房价数据，显然是不符合需求的，建立的数学模型也不准确。\n",
    "\n",
    "高斯分布：也就是正态分布，一种连续型随机变量的概率密度函数。先来看一下正态分布的函数图像：\n",
    "\n",
    "![](https://timgsa.baidu.com/timg?image&quality=80&size=b9999_10000&sec=1579756192820&di=8e0f9eceaff1d804cae8d942d0015e99&imgtype=0&src=http%3A%2F%2Fwww.west.cn%2Fcms%2Fimages%2F2019-07-23%2F5t1gdkq5xym.jpg)\n",
    "\n",
    "看起来是不是特别圆润，符合一种对称美，是不是觉得手感肯定特别好。"
   ]
  },
  {
   "cell_type": "markdown",
   "metadata": {},
   "source": [
    "#### 为什么要用高斯分布？\n",
    "\n",
    "其实我们一开始并不能确定误差一定服从高斯分布，只不过阿，根据前人的经验，大多数误差经过测量被证实是服从高斯分布的，说明高斯分布对误差假设来说是一种很好的模型。\n",
    "\n",
    "在自然界与生产中，一些现象受到许多相互独立的随机因素的影响，也就是我们买房过程中的每套住房的平均房间数、到五个波士顿就业中心的平均距离，如果每个因素所产生的影响都很微小，总的影响可以看作是服从正态分布的。\n",
    "\n",
    "当然上面那个高斯分布图看起来不是很清晰，我们可以用numpy和matplotlib自己来画一个简单的高斯分布函数图像。\n",
    "\n",
    "在数学上，正态分布的概率密度函数：\n",
    "\n",
    "$$f(x)=\\frac{1}{\\sqrt{2π}\\sigma}e^{\\frac{-(x-u)^2}{2\\sigma^2}}$$\n",
    "\n",
    "当u=0，σ=1时，正态分布称为标准正态分布：\n",
    "\n",
    "$$f(x)=\\frac{1}{\\sqrt{2π}}e^{\\frac{-x^2}{2}}$$"
   ]
  },
  {
   "cell_type": "code",
   "execution_count": 11,
   "metadata": {
    "pycharm": {
     "is_executing": true
    }
   },
   "outputs": [
    {
     "data": {
      "image/png": "[encoded data removed]",
      "text/plain": [
       "<Figure size 432x288 with 1 Axes>"
      ]
     },
     "metadata": {
      "needs_background": "light"
     },
     "output_type": "display_data"
    }
   ],
   "source": [
    "def gaussian(x, mean, sigma):\n",
    "    return (np.exp((-(x - mean) ** 2) / (2 * sigma ** 2)) / (np.sqrt(2 * np.pi) * sigma))\n",
    "\n",
    "mean, sigma = 0, 1\n",
    "x = np.arange(-3, 3, 0.001)\n",
    "plt.plot(x, gaussian(x, mean, sigma))\n",
    "plt.show()"
   ]
  },
  {
   "cell_type": "markdown",
   "metadata": {},
   "source": [
    "从高斯分布图可知，[-2,2]之间的分布占大部分，啥意思呢，说的其实是预测房价跟真实房价大多数情况下都是差异不大的。\n",
    "\n",
    "在我们的房价预测问题中，均值μ=0，所以可以把公式写成：\n",
    "\n",
    "$$f(x)=\\frac{1}{\\sqrt{2π}\\sigma}e^{-\\frac{x^2}{2\\sigma^2}}$$\n",
    "\n",
    "之前所假设的是误差ε<sub>(i)</sub>服从正态分布，所以ε<sub>(i)</sub>就是正态分布函数中的x，我们再把ε<sub>(i)</sub>代入到公式中：\n",
    "\n",
    "$$f(ε_{(i)})=\\frac{1}{\\sqrt{2π}\\sigma}e^{-\\frac{ε_{(i)}^2}{2\\sigma^2}}$$\n",
    "\n",
    "我们把之前推导出的结果\n",
    "\n",
    "$$\\epsilon_i=y_{(i)}-\\theta^Tx_i$$\n",
    "\n",
    "也就是预测房价与真实房价之间的差距，再代入到公式中：\n",
    "\n",
    "$$f(y_{(i)}-θ^Tx_i)=\\frac{1}{\\sqrt{2π}\\sigma}e^{-\\frac{(y_{(i)}-θ^Tx_i)^2}{2\\sigma^2}}$$\n",
    "\n",
    "在这个公式中，y<sub>(i)</sub>表示的真实房价，是已知的，x<sub>(i)</sub>呢，是每间房子的特征，也就是房屋的平均房间数之类的，也是已知的。\n",
    "\n",
    "也就是说，整个公式中，只有θ<sup>T</sup>是未知的。\n",
    "\n",
    "这样的话，咱们把自变量换一下，整成一个关于未知数θ的函数：\n",
    "\n",
    "$$L(θ)=\\frac{1}{\\sqrt{2π}\\sigma}e^{-\\frac{(y_{(i)}-θ^Tx_i)^2}{2\\sigma^2}}$$"
   ]
  },
  {
   "cell_type": "markdown",
   "metadata": {},
   "source": [
    "我们一开始的目的是想让误差变小，在正态分布中，对于自变量x，绝对值越小，越接近于0，因变量的值越大。\n",
    "\n",
    "好了，现在我们的目的进阶了一下，让L(θ)的值越大越好。\n",
    "\n",
    "那么，怎么才能让L(θ)的值变大呢？\n",
    "\n",
    "我们不是有往年的波士顿房价资料么，把以前的一些资料全部代入进去不就行了。\n",
    "\n",
    "代入一个，得到一个L(θ1)，再代入一个得到一个L(θ2)，然后一直代入，一直代入……\n",
    "\n",
    "咱们是想让建立的数学模型最好能够拟合所有的样本，也就是说，让所有的L(θ)都最大。\n",
    "\n",
    "现在把所有的L(θ)整合起来，做一个累乘：\n",
    "\n",
    "$$L(θ)=\\prod_{i=1}^{n}\\frac{1}{\\sqrt{2π}\\sigma}e^{-\\frac{(y_{(i)}-θ^Tx_i)^2}{2\\sigma^2}}$$"
   ]
  },
  {
   "cell_type": "markdown",
   "metadata": {},
   "source": [
    "**为什么要做累乘而不是累加呢？**\n",
    "\n",
    "这个其实跟数学有关，多个样本之间的累乘依然保留原本的分布模式，并且会使常见的概率更常见，这个概率对所有的样本关联性更强。\n",
    "\n",
    "累加当然可以用，假如说L(θi)={1,2,3,4,5,6,7,8,9}，把所有的数累加起来，其结果sum_L(θi)=45，但是如果把所有的结果累乘起来，其结果ride_L(θi)=362880。\n",
    "\n",
    "这个时候，如果缺了一个数7，那么sum_L(θi)'=38，ride_L(θi)’=51840，累乘的结果降低的更多，说明累乘的结果对每一个样本的关联性更大。"
   ]
  },
  {
   "cell_type": "markdown",
   "metadata": {},
   "source": [
    "对于L(θ)，它有一个学名叫似然函数。\n",
    "\n",
    "来看一下定义：似然函数也是一个概率密度函数L(θ∣x)，表示在样本值x已知的情况下求最可能的θ值；实际运用中，根据我们的样本去估计参数值，找到最最符合的参数，使得与我们的数据组合后恰好是真实值。\n",
    "\n",
    "暂时不需要去深刻的理解似然函数的概念，咱现在的主要目的是买房。\n",
    "\n",
    "现在得到了一个累乘的结果L(θ)，但是累乘算起来比较麻烦，咱们可以把累乘转换为累加，方法是对等式两边同时取对数：\n",
    "\n",
    "$$ln^{L(θ)}=ln^{\\prod_{i=1}^{n}\\frac{1}{\\sqrt{2π}\\sigma}e^{-\\frac{(y_{(i)}-θ^Tx_i)^2}{2\\sigma^2}}}$$\n",
    "\n",
    "虽然转换了，但是效果还是一样的，只是通过累加来计算而已。\n",
    "\n",
    "根据对数运算的性质，可以将累乘计算提到ln前边，变成累加运算：\n",
    "\n",
    "$$ln^{L(θ)}=\\sum_{i=1}^nln^{\\frac{1}{\\sqrt{2π}\\sigma}e^{-\\frac{(y_{(i)}-θ^Tx_i)^2}{2\\sigma^2}}}$$"
   ]
  },
  {
   "cell_type": "markdown",
   "metadata": {},
   "source": [
    "再看一下右式ln运算的真数：\n",
    "\n",
    "$$\\frac{1}{\\sqrt{2π}\\sigma}e^{-\\frac{(y_{(i)}-θ^Tx_i)^2}{2\\sigma^2}}$$\n",
    "\n",
    "这也是一个乘法运算，而且前一项\n",
    "\n",
    "$$\\frac{1}{\\sqrt{2π}\\sigma}$$\n",
    "\n",
    "是一个常数，后一项\n",
    "\n",
    "$$e^{-\\frac{(y_{(i)}-θ^Tx_i)^2}{2\\sigma^2}}$$\n",
    "\n",
    "根据对数运算的性质可以消去e。\n",
    "\n",
    "化简一下，公式就变成了：\n",
    "\n",
    "$$ln^{L(θ)}=\\sum_{i=1}^n(ln^{\\frac{1}{\\sqrt{2π}\\sigma}}+ln^{e^{-\\frac{(y_{(i)}-θ^Tx_i)^2}{2\\sigma^2}}})$$\n",
    "\n",
    "$$=\\sum_{i=1}^n(ln^{\\frac{1}{\\sqrt{2π}\\sigma}}-\\frac{(y_{(i)}-θ^Tx_i)^2}{2\\sigma^2})$$\n",
    "\n",
    "$$=\\sum_{i=1}^nln^{\\frac{1}{\\sqrt{2π}\\sigma}}-\\sum_{i=1}^n\\frac{(y_{(i)}-θ^Tx_i)^2}{2\\sigma^2}$$"
   ]
  },
  {
   "cell_type": "markdown",
   "metadata": {},
   "source": [
    "之前我们分析过了，整个式子里只有θ<sup>𝑇</sup>是未知数，所以可以先把常数项能化简的化简，能提前的提前，将公式化简为：\n",
    "    \n",
    "$$ln^{L(θ)}=nln^{\\frac{1}{\\sqrt{2π}\\sigma}}-{\\frac{1}{2\\sigma^2}}\\sum_{i=1}^n{(y_{(i)}-θ^Tx_i)^2}$$\n",
    "\n",
    "这时候再看一下公式的常数项：\n",
    "\n",
    "$$nln^{\\frac{1}{\\sqrt{2π}\\sigma}}和{\\frac{1}{\\sigma^2}}$$\n",
    "\n",
    "把1/2保留到变量项里，后续有用。"
   ]
  },
  {
   "cell_type": "markdown",
   "metadata": {},
   "source": [
    "我们的目的是让似然函数L(θ)越大越好，也就是ln<sup>L(θ)</sup>越大越好，也就是让\n",
    "\n",
    "$${\\frac{1}{2}}\\sum_{r=1}^n{(y_{(i)}-θ^Tx_i)^2}$$\n",
    "\n",
    "越小越好。\n",
    "\n",
    "写成目标函数:\n",
    "\n",
    "$$J(θ)={\\frac{1}{2}}\\sum_{r=1}^n{(y_{(i)}-θ^Tx_i)^2}$$\n",
    "\n",
    "你可能觉得，\n",
    "\n",
    "$$y_{(i)}-θ^Tx_i$$\n",
    "\n",
    "这个式子不就是之前推导出来的么，整了那么一大圈，最后的出来的还是这个。\n",
    "\n",
    "实则不然，现在要计算的是：J(θ)的最小值，\n",
    "\n",
    "$$J(θ)=(y_{(i)}-θ^Tx_i)^2$$\n",
    "\n",
    "当x只有一维取值的时候，这是一个二次函数，用高中的话讲就是一个开口向上的二次函数，有最小值，怎么求呢？\n",
    "\n",
    "求导，导数为0的时候取极值，极值中存在最值。"
   ]
  },
  {
   "cell_type": "markdown",
   "metadata": {},
   "source": [
    "我们得到的目标函数J(θ)不是简单的二次函数，而是将所有的x(i)映射到一个x上。\n",
    "\n",
    "现在得到了目标函数：\n",
    "\n",
    "$$J(θ)={\\frac{1}{2}}\\sum_{i=1}^n{(y_{(i)}-θ^Tx_i)^2}$$\n",
    "\n",
    "转换成矩阵相乘的形式并化简一下：\n",
    "\n",
    "$$J(θ)={\\frac{1}{2}}({Xθ-y})^T({Xθ-y})$$\n",
    "\n",
    "$$={\\frac{1}{2}}({{(Xθ)}^T-y^T})({Xθ-y})$$\n",
    "\n",
    "$$={\\frac{1}{2}}({θ^TX^T-y^T})({Xθ-y})$$\n",
    "\n",
    "$$={\\frac{1}{2}}(θ^TX^TXθ-θ^TX^Ty-y^TXθ+y^Ty)$$\n",
    "\n",
    "咱们的未知数是θ，现在是一个关于θ的函数，对θ求导得：\n",
    "\n",
    "$$J'(θ)=X^TXθ-X^Ty$$\n",
    "\n",
    "令J'(θ)=0得：\n",
    "\n",
    "$$X^TXθ-X^Ty=0$$\n",
    "\n",
    "$$X^TXθ=X^Ty$$\n",
    "\n",
    "$$θ=(X^TX)^{-1}X^Ty$$\n",
    "\n",
    "现在，我们终于得到得到最终的θ了，为什么说最终了呢？X是已经获得的房屋的数据，y是房价，都是已知的，直接代入就OK了。\n",
    "\n",
    "有了公式，现在回头来看看真实的问题和真实的数据该怎么处理："
   ]
  },
  {
   "cell_type": "markdown",
   "metadata": {},
   "source": [
    "## [House Prices: Advanced Regression Techniques](https://www.kaggle.com/c/house-prices-advanced-regression-techniques/overview)\n",
    "\n",
    "## [房价：先进的回归技术](https://www.kaggle.com/c/house-prices-advanced-regression-techniques/overview)"
   ]
  },
  {
   "cell_type": "code",
   "execution_count": 12,
   "metadata": {
    "pycharm": {
     "is_executing": true
    }
   },
   "outputs": [],
   "source": [
    "housing = pd.read_csv(\"train.csv\")"
   ]
  },
  {
   "cell_type": "code",
   "execution_count": 13,
   "metadata": {
    "pycharm": {
     "is_executing": true
    }
   },
   "outputs": [
    {
     "data": {
      "text/html": [
       "<div>\n",
       "<style scoped>\n",
       "    .dataframe tbody tr th:only-of-type {\n",
       "        vertical-align: middle;\n",
       "    }\n",
       "\n",
       "    .dataframe tbody tr th {\n",
       "        vertical-align: top;\n",
       "    }\n",
       "\n",
       "    .dataframe thead th {\n",
       "        text-align: right;\n",
       "    }\n",
       "</style>\n",
       "<table border=\"1\" class=\"dataframe\">\n",
       "  <thead>\n",
       "    <tr style=\"text-align: right;\">\n",
       "      <th></th>\n",
       "      <th>Id</th>\n",
       "      <th>MSSubClass</th>\n",
       "      <th>MSZoning</th>\n",
       "      <th>LotFrontage</th>\n",
       "      <th>LotArea</th>\n",
       "      <th>Street</th>\n",
       "      <th>Alley</th>\n",
       "      <th>LotShape</th>\n",
       "      <th>LandContour</th>\n",
       "      <th>Utilities</th>\n",
       "      <th>...</th>\n",
       "      <th>PoolArea</th>\n",
       "      <th>PoolQC</th>\n",
       "      <th>Fence</th>\n",
       "      <th>MiscFeature</th>\n",
       "      <th>MiscVal</th>\n",
       "      <th>MoSold</th>\n",
       "      <th>YrSold</th>\n",
       "      <th>SaleType</th>\n",
       "      <th>SaleCondition</th>\n",
       "      <th>SalePrice</th>\n",
       "    </tr>\n",
       "  </thead>\n",
       "  <tbody>\n",
       "    <tr>\n",
       "      <th>0</th>\n",
       "      <td>1</td>\n",
       "      <td>60</td>\n",
       "      <td>RL</td>\n",
       "      <td>65.0</td>\n",
       "      <td>8450</td>\n",
       "      <td>Pave</td>\n",
       "      <td>NaN</td>\n",
       "      <td>Reg</td>\n",
       "      <td>Lvl</td>\n",
       "      <td>AllPub</td>\n",
       "      <td>...</td>\n",
       "      <td>0</td>\n",
       "      <td>NaN</td>\n",
       "      <td>NaN</td>\n",
       "      <td>NaN</td>\n",
       "      <td>0</td>\n",
       "      <td>2</td>\n",
       "      <td>2008</td>\n",
       "      <td>WD</td>\n",
       "      <td>Normal</td>\n",
       "      <td>208500</td>\n",
       "    </tr>\n",
       "    <tr>\n",
       "      <th>1</th>\n",
       "      <td>2</td>\n",
       "      <td>20</td>\n",
       "      <td>RL</td>\n",
       "      <td>80.0</td>\n",
       "      <td>9600</td>\n",
       "      <td>Pave</td>\n",
       "      <td>NaN</td>\n",
       "      <td>Reg</td>\n",
       "      <td>Lvl</td>\n",
       "      <td>AllPub</td>\n",
       "      <td>...</td>\n",
       "      <td>0</td>\n",
       "      <td>NaN</td>\n",
       "      <td>NaN</td>\n",
       "      <td>NaN</td>\n",
       "      <td>0</td>\n",
       "      <td>5</td>\n",
       "      <td>2007</td>\n",
       "      <td>WD</td>\n",
       "      <td>Normal</td>\n",
       "      <td>181500</td>\n",
       "    </tr>\n",
       "    <tr>\n",
       "      <th>2</th>\n",
       "      <td>3</td>\n",
       "      <td>60</td>\n",
       "      <td>RL</td>\n",
       "      <td>68.0</td>\n",
       "      <td>11250</td>\n",
       "      <td>Pave</td>\n",
       "      <td>NaN</td>\n",
       "      <td>IR1</td>\n",
       "      <td>Lvl</td>\n",
       "      <td>AllPub</td>\n",
       "      <td>...</td>\n",
       "      <td>0</td>\n",
       "      <td>NaN</td>\n",
       "      <td>NaN</td>\n",
       "      <td>NaN</td>\n",
       "      <td>0</td>\n",
       "      <td>9</td>\n",
       "      <td>2008</td>\n",
       "      <td>WD</td>\n",
       "      <td>Normal</td>\n",
       "      <td>223500</td>\n",
       "    </tr>\n",
       "    <tr>\n",
       "      <th>3</th>\n",
       "      <td>4</td>\n",
       "      <td>70</td>\n",
       "      <td>RL</td>\n",
       "      <td>60.0</td>\n",
       "      <td>9550</td>\n",
       "      <td>Pave</td>\n",
       "      <td>NaN</td>\n",
       "      <td>IR1</td>\n",
       "      <td>Lvl</td>\n",
       "      <td>AllPub</td>\n",
       "      <td>...</td>\n",
       "      <td>0</td>\n",
       "      <td>NaN</td>\n",
       "      <td>NaN</td>\n",
       "      <td>NaN</td>\n",
       "      <td>0</td>\n",
       "      <td>2</td>\n",
       "      <td>2006</td>\n",
       "      <td>WD</td>\n",
       "      <td>Abnorml</td>\n",
       "      <td>140000</td>\n",
       "    </tr>\n",
       "    <tr>\n",
       "      <th>4</th>\n",
       "      <td>5</td>\n",
       "      <td>60</td>\n",
       "      <td>RL</td>\n",
       "      <td>84.0</td>\n",
       "      <td>14260</td>\n",
       "      <td>Pave</td>\n",
       "      <td>NaN</td>\n",
       "      <td>IR1</td>\n",
       "      <td>Lvl</td>\n",
       "      <td>AllPub</td>\n",
       "      <td>...</td>\n",
       "      <td>0</td>\n",
       "      <td>NaN</td>\n",
       "      <td>NaN</td>\n",
       "      <td>NaN</td>\n",
       "      <td>0</td>\n",
       "      <td>12</td>\n",
       "      <td>2008</td>\n",
       "      <td>WD</td>\n",
       "      <td>Normal</td>\n",
       "      <td>250000</td>\n",
       "    </tr>\n",
       "    <tr>\n",
       "      <th>...</th>\n",
       "      <td>...</td>\n",
       "      <td>...</td>\n",
       "      <td>...</td>\n",
       "      <td>...</td>\n",
       "      <td>...</td>\n",
       "      <td>...</td>\n",
       "      <td>...</td>\n",
       "      <td>...</td>\n",
       "      <td>...</td>\n",
       "      <td>...</td>\n",
       "      <td>...</td>\n",
       "      <td>...</td>\n",
       "      <td>...</td>\n",
       "      <td>...</td>\n",
       "      <td>...</td>\n",
       "      <td>...</td>\n",
       "      <td>...</td>\n",
       "      <td>...</td>\n",
       "      <td>...</td>\n",
       "      <td>...</td>\n",
       "      <td>...</td>\n",
       "    </tr>\n",
       "    <tr>\n",
       "      <th>1455</th>\n",
       "      <td>1456</td>\n",
       "      <td>60</td>\n",
       "      <td>RL</td>\n",
       "      <td>62.0</td>\n",
       "      <td>7917</td>\n",
       "      <td>Pave</td>\n",
       "      <td>NaN</td>\n",
       "      <td>Reg</td>\n",
       "      <td>Lvl</td>\n",
       "      <td>AllPub</td>\n",
       "      <td>...</td>\n",
       "      <td>0</td>\n",
       "      <td>NaN</td>\n",
       "      <td>NaN</td>\n",
       "      <td>NaN</td>\n",
       "      <td>0</td>\n",
       "      <td>8</td>\n",
       "      <td>2007</td>\n",
       "      <td>WD</td>\n",
       "      <td>Normal</td>\n",
       "      <td>175000</td>\n",
       "    </tr>\n",
       "    <tr>\n",
       "      <th>1456</th>\n",
       "      <td>1457</td>\n",
       "      <td>20</td>\n",
       "      <td>RL</td>\n",
       "      <td>85.0</td>\n",
       "      <td>13175</td>\n",
       "      <td>Pave</td>\n",
       "      <td>NaN</td>\n",
       "      <td>Reg</td>\n",
       "      <td>Lvl</td>\n",
       "      <td>AllPub</td>\n",
       "      <td>...</td>\n",
       "      <td>0</td>\n",
       "      <td>NaN</td>\n",
       "      <td>MnPrv</td>\n",
       "      <td>NaN</td>\n",
       "      <td>0</td>\n",
       "      <td>2</td>\n",
       "      <td>2010</td>\n",
       "      <td>WD</td>\n",
       "      <td>Normal</td>\n",
       "      <td>210000</td>\n",
       "    </tr>\n",
       "    <tr>\n",
       "      <th>1457</th>\n",
       "      <td>1458</td>\n",
       "      <td>70</td>\n",
       "      <td>RL</td>\n",
       "      <td>66.0</td>\n",
       "      <td>9042</td>\n",
       "      <td>Pave</td>\n",
       "      <td>NaN</td>\n",
       "      <td>Reg</td>\n",
       "      <td>Lvl</td>\n",
       "      <td>AllPub</td>\n",
       "      <td>...</td>\n",
       "      <td>0</td>\n",
       "      <td>NaN</td>\n",
       "      <td>GdPrv</td>\n",
       "      <td>Shed</td>\n",
       "      <td>2500</td>\n",
       "      <td>5</td>\n",
       "      <td>2010</td>\n",
       "      <td>WD</td>\n",
       "      <td>Normal</td>\n",
       "      <td>266500</td>\n",
       "    </tr>\n",
       "    <tr>\n",
       "      <th>1458</th>\n",
       "      <td>1459</td>\n",
       "      <td>20</td>\n",
       "      <td>RL</td>\n",
       "      <td>68.0</td>\n",
       "      <td>9717</td>\n",
       "      <td>Pave</td>\n",
       "      <td>NaN</td>\n",
       "      <td>Reg</td>\n",
       "      <td>Lvl</td>\n",
       "      <td>AllPub</td>\n",
       "      <td>...</td>\n",
       "      <td>0</td>\n",
       "      <td>NaN</td>\n",
       "      <td>NaN</td>\n",
       "      <td>NaN</td>\n",
       "      <td>0</td>\n",
       "      <td>4</td>\n",
       "      <td>2010</td>\n",
       "      <td>WD</td>\n",
       "      <td>Normal</td>\n",
       "      <td>142125</td>\n",
       "    </tr>\n",
       "    <tr>\n",
       "      <th>1459</th>\n",
       "      <td>1460</td>\n",
       "      <td>20</td>\n",
       "      <td>RL</td>\n",
       "      <td>75.0</td>\n",
       "      <td>9937</td>\n",
       "      <td>Pave</td>\n",
       "      <td>NaN</td>\n",
       "      <td>Reg</td>\n",
       "      <td>Lvl</td>\n",
       "      <td>AllPub</td>\n",
       "      <td>...</td>\n",
       "      <td>0</td>\n",
       "      <td>NaN</td>\n",
       "      <td>NaN</td>\n",
       "      <td>NaN</td>\n",
       "      <td>0</td>\n",
       "      <td>6</td>\n",
       "      <td>2008</td>\n",
       "      <td>WD</td>\n",
       "      <td>Normal</td>\n",
       "      <td>147500</td>\n",
       "    </tr>\n",
       "  </tbody>\n",
       "</table>\n",
       "<p>1460 rows × 81 columns</p>\n",
       "</div>"
      ],
      "text/plain": [
       "        Id  MSSubClass MSZoning  LotFrontage  LotArea Street Alley LotShape  \\\n",
       "0        1          60       RL         65.0     8450   Pave   NaN      Reg   \n",
       "1        2          20       RL         80.0     9600   Pave   NaN      Reg   \n",
       "2        3          60       RL         68.0    11250   Pave   NaN      IR1   \n",
       "3        4          70       RL         60.0     9550   Pave   NaN      IR1   \n",
       "4        5          60       RL         84.0    14260   Pave   NaN      IR1   \n",
       "...    ...         ...      ...          ...      ...    ...   ...      ...   \n",
       "1455  1456          60       RL         62.0     7917   Pave   NaN      Reg   \n",
       "1456  1457          20       RL         85.0    13175   Pave   NaN      Reg   \n",
       "1457  1458          70       RL         66.0     9042   Pave   NaN      Reg   \n",
       "1458  1459          20       RL         68.0     9717   Pave   NaN      Reg   \n",
       "1459  1460          20       RL         75.0     9937   Pave   NaN      Reg   \n",
       "\n",
       "     LandContour Utilities  ... PoolArea PoolQC  Fence MiscFeature MiscVal  \\\n",
       "0            Lvl    AllPub  ...        0    NaN    NaN         NaN       0   \n",
       "1            Lvl    AllPub  ...        0    NaN    NaN         NaN       0   \n",
       "2            Lvl    AllPub  ...        0    NaN    NaN         NaN       0   \n",
       "3            Lvl    AllPub  ...        0    NaN    NaN         NaN       0   \n",
       "4            Lvl    AllPub  ...        0    NaN    NaN         NaN       0   \n",
       "...          ...       ...  ...      ...    ...    ...         ...     ...   \n",
       "1455         Lvl    AllPub  ...        0    NaN    NaN         NaN       0   \n",
       "1456         Lvl    AllPub  ...        0    NaN  MnPrv         NaN       0   \n",
       "1457         Lvl    AllPub  ...        0    NaN  GdPrv        Shed    2500   \n",
       "1458         Lvl    AllPub  ...        0    NaN    NaN         NaN       0   \n",
       "1459         Lvl    AllPub  ...        0    NaN    NaN         NaN       0   \n",
       "\n",
       "     MoSold YrSold  SaleType  SaleCondition  SalePrice  \n",
       "0         2   2008        WD         Normal     208500  \n",
       "1         5   2007        WD         Normal     181500  \n",
       "2         9   2008        WD         Normal     223500  \n",
       "3         2   2006        WD        Abnorml     140000  \n",
       "4        12   2008        WD         Normal     250000  \n",
       "...     ...    ...       ...            ...        ...  \n",
       "1455      8   2007        WD         Normal     175000  \n",
       "1456      2   2010        WD         Normal     210000  \n",
       "1457      5   2010        WD         Normal     266500  \n",
       "1458      4   2010        WD         Normal     142125  \n",
       "1459      6   2008        WD         Normal     147500  \n",
       "\n",
       "[1460 rows x 81 columns]"
      ]
     },
     "execution_count": 13,
     "metadata": {},
     "output_type": "execute_result"
    }
   ],
   "source": [
    "housing"
   ]
  },
  {
   "cell_type": "markdown",
   "metadata": {},
   "source": [
    "### 数据预处理\n",
    "\n",
    "拿到数据之后，不是上来就要进行计算的，首先要做的就是数据预处理。\n",
    "\n",
    "首先，我们来分析一下每一个x特征，并做一些处理："
   ]
  },
  {
   "cell_type": "markdown",
   "metadata": {},
   "source": [
    "#### MSSubClass: Identifies the type of dwelling involved in the sale.\t\n",
    "#### MSSubClass：标识参与销售的住宅类型。\n",
    "\n",
    "        20\t1-STORY 1946 & NEWER ALL STYLES\n",
    "           1946年1层和更新的所有样式\n",
    "        30\t1-STORY 1945 & OLDER\n",
    "           1945年1层及以上\n",
    "        40\t1-STORY W/FINISHED ATTIC ALL AGES\n",
    "           1层，带成品阁楼，所有年龄段\n",
    "        45\t1-1/2 STORY - UNFINISHED ALL AGES\n",
    "           1-1/2层-未完成所有年龄段\n",
    "        50\t1-1/2 STORY FINISHED ALL AGES\n",
    "           1-1/2层完成所有年龄段\n",
    "        60\t2-STORY 1946 & NEWER\n",
    "           1946年2层及以上\n",
    "        70\t2-STORY 1945 & OLDER\n",
    "           1945年2层及以上\n",
    "        75\t2-1/2 STORY ALL AGES\n",
    "           2-1/2层，所有年龄段\n",
    "        80\tSPLIT OR MULTI-LEVEL\n",
    "           拆分或多级\n",
    "        85\tSPLIT FOYER\n",
    "           分体式门厅\n",
    "        90\tDUPLEX - ALL STYLES AND AGES\n",
    "           复式-所有样式和年龄\n",
    "       120\t1-STORY PUD (Planned Unit Development) - 1946 & NEWER\n",
    "          一层建筑（计划单元开发）-1946年及更新版本\n",
    "       150\t1-1/2 STORY PUD - ALL AGES\n",
    "          1-1/2层布德-所有年龄段\n",
    "       160\t2-STORY PUD - 1946 & NEWER\n",
    "          两层楼的PUD-1946及更新版本\n",
    "       180\tPUD - MULTILEVEL - INCL SPLIT LEV/FOYER\n",
    "          PUD-多级-包括分离式LEV/门厅\n",
    "       190\t2 FAMILY CONVERSION - ALL STYLES AND AGES\n",
    "          2家庭转换-所有风格和年龄\n",
    " \n",
    "虽然没太看懂啥意思，但是大致就是MSSubClass越高越好，从一两层的到复式再到什么家庭转换，看着就感觉挺贵的样子。\n",
    "\n",
    "先看一下MSSubClass这一列有没有缺失值。"
   ]
  },
  {
   "cell_type": "code",
   "execution_count": 14,
   "metadata": {},
   "outputs": [
    {
     "data": {
      "text/plain": [
       "0"
      ]
     },
     "execution_count": 14,
     "metadata": {},
     "output_type": "execute_result"
    }
   ],
   "source": [
    "housing[\"MSSubClass\"].isnull().sum()"
   ]
  },
  {
   "cell_type": "markdown",
   "metadata": {},
   "source": [
    "MSSubClass这一列数据状况良好，没有缺失值，看一下它的分布情况。"
   ]
  },
  {
   "cell_type": "code",
   "execution_count": 15,
   "metadata": {},
   "outputs": [
    {
     "data": {
      "image/png": "[encoded data removed]",
      "text/plain": [
       "<Figure size 432x288 with 1 Axes>"
      ]
     },
     "metadata": {
      "needs_background": "light"
     },
     "output_type": "display_data"
    }
   ],
   "source": [
    "plt.scatter(housing[\"MSSubClass\"], housing[\"SalePrice\"], )\n",
    "plt.show()"
   ]
  },
  {
   "cell_type": "markdown",
   "metadata": {},
   "source": [
    "这么一看分布的话，我们之前的猜测不成立啊，MSSubClass和SalePrice不是正相关的关系，那它俩的关系先待定。\n",
    "\n",
    "通过散点图虽然能看到不同房价的分布，但是有些地方很多点重合在一起，很难看出房价密度。\n",
    "\n",
    "这时候，我们给MSSubClass和SalePrice添加一个抖动，抖动只是让它在图上的显示位置稍微偏离一下，并不会更改真实的数据，然后再设置一下透明度，重叠的点越多，图像颜色越深。"
   ]
  },
  {
   "cell_type": "code",
   "execution_count": 16,
   "metadata": {},
   "outputs": [
    {
     "data": {
      "text/plain": [
       "<matplotlib.axes._subplots.AxesSubplot at 0x2346d057b48>"
      ]
     },
     "execution_count": 16,
     "metadata": {},
     "output_type": "execute_result"
    },
    {
     "data": {
      "image/png": "[encoded data removed]",
      "text/plain": [
       "<Figure size 432x288 with 1 Axes>"
      ]
     },
     "metadata": {
      "needs_background": "light"
     },
     "output_type": "display_data"
    }
   ],
   "source": [
    "sns.regplot(data=housing, x=\"MSSubClass\", y=\"SalePrice\", x_jitter=3, scatter_kws={\"alpha\":0.3})"
   ]
  },
  {
   "cell_type": "markdown",
   "metadata": {},
   "source": [
    "如图可见，大部分MSSubClass都在0~100之内，而MSSubClass与SalePrice的拟合线接近于一条直线，而且有点偏向于负相关。"
   ]
  },
  {
   "cell_type": "markdown",
   "metadata": {},
   "source": [
    "#### MSZoning: Identifies the general zoning classification of the sale.\n",
    "#### MSZoning：标识销售的一般分区分类。\n",
    "\t\t\n",
    "       A\tAgriculture\n",
    "           农业\n",
    "       C\tCommercial\n",
    "           商业\n",
    "       FV\tFloating Village Residential\n",
    "           流动村住宅\n",
    "       I\tIndustrial\n",
    "           工业\n",
    "       RH\tResidential High Density\n",
    "           住宅高密度\n",
    "       RL\tResidential Low Density\n",
    "           住宅低密度\n",
    "       RP\tResidential Low Density Park \n",
    "           住宅低密度公园\n",
    "       RM\tResidential Medium Density\n",
    "           住宅中密度"
   ]
  },
  {
   "cell_type": "markdown",
   "metadata": {},
   "source": [
    "上来还是先看有没有缺失值："
   ]
  },
  {
   "cell_type": "code",
   "execution_count": 17,
   "metadata": {},
   "outputs": [
    {
     "data": {
      "text/plain": [
       "0"
      ]
     },
     "execution_count": 17,
     "metadata": {},
     "output_type": "execute_result"
    }
   ],
   "source": [
    "housing[\"MSZoning\"].isnull().sum()"
   ]
  },
  {
   "cell_type": "code",
   "execution_count": 18,
   "metadata": {},
   "outputs": [
    {
     "data": {
      "text/plain": [
       "RL         1151\n",
       "RM          218\n",
       "FV           65\n",
       "RH           16\n",
       "C (all)      10\n",
       "Name: MSZoning, dtype: int64"
      ]
     },
     "execution_count": 18,
     "metadata": {},
     "output_type": "execute_result"
    }
   ],
   "source": [
    "housing[\"MSZoning\"].value_counts()"
   ]
  },
  {
   "cell_type": "markdown",
   "metadata": {},
   "source": [
    "没有缺失值，还是看一下MSZoning跟SalePrice的关系，但是我们看一下数据："
   ]
  },
  {
   "cell_type": "code",
   "execution_count": 19,
   "metadata": {},
   "outputs": [
    {
     "data": {
      "text/plain": [
       "0       RL\n",
       "1       RL\n",
       "2       RL\n",
       "3       RL\n",
       "4       RL\n",
       "        ..\n",
       "1455    RL\n",
       "1456    RL\n",
       "1457    RL\n",
       "1458    RL\n",
       "1459    RL\n",
       "Name: MSZoning, Length: 1460, dtype: object"
      ]
     },
     "execution_count": 19,
     "metadata": {},
     "output_type": "execute_result"
    }
   ],
   "source": [
    "housing[\"MSZoning\"]"
   ]
  },
  {
   "cell_type": "markdown",
   "metadata": {},
   "source": [
    "数据并不是常规的数值，而是字母变量，我们要把字母变量对应到数值。\n",
    "\n",
    "确定一个简单的对应关系：\n",
    "\n",
    "1 <—— A    Agriculture\n",
    "\n",
    "2 <—— C    Commercial\n",
    "\n",
    "3 <—— FV   Floating Village Residential\n",
    "\n",
    "4 <—— I    Industrial\n",
    "\n",
    "5 <—— RH   Residential High Density\n",
    "\n",
    "6 <—— RL   Residential Low Density\n",
    "\n",
    "7 <—— RP   Residential Low Density Park \n",
    "\n",
    "8 <—— RM   Residential Medium Density"
   ]
  },
  {
   "cell_type": "code",
   "execution_count": 20,
   "metadata": {},
   "outputs": [],
   "source": [
    "housing.loc[housing[\"MSZoning\"] == \"A\", \"MSZoning\"] = 1.0\n",
    "housing.loc[housing[\"MSZoning\"] == \"C (all)\", \"MSZoning\"] = 2.0\n",
    "housing.loc[housing[\"MSZoning\"] == \"FV\", \"MSZoning\"] = 3.0\n",
    "housing.loc[housing[\"MSZoning\"] == \"I\", \"MSZoning\"] = 4.0\n",
    "housing.loc[housing[\"MSZoning\"] == \"RH\", \"MSZoning\"] = 5.0\n",
    "housing.loc[housing[\"MSZoning\"] == \"RL\", \"MSZoning\"] = 6.0\n",
    "housing.loc[housing[\"MSZoning\"] == \"RP\", \"MSZoning\"] = 7.0\n",
    "housing.loc[housing[\"MSZoning\"] == \"RM\", \"MSZoning\"] = 8.0"
   ]
  },
  {
   "cell_type": "code",
   "execution_count": 21,
   "metadata": {},
   "outputs": [
    {
     "data": {
      "text/plain": [
       "6    1151\n",
       "8     218\n",
       "3      65\n",
       "5      16\n",
       "2      10\n",
       "Name: MSZoning, dtype: int64"
      ]
     },
     "execution_count": 21,
     "metadata": {},
     "output_type": "execute_result"
    }
   ],
   "source": [
    "housing[\"MSZoning\"].value_counts()"
   ]
  },
  {
   "cell_type": "code",
   "execution_count": 22,
   "metadata": {},
   "outputs": [
    {
     "data": {
      "text/plain": [
       "<matplotlib.axes._subplots.AxesSubplot at 0x2346d0d1708>"
      ]
     },
     "execution_count": 22,
     "metadata": {},
     "output_type": "execute_result"
    },
    {
     "data": {
      "image/png": "[encoded data removed]",
      "text/plain": [
       "<Figure size 432x288 with 1 Axes>"
      ]
     },
     "metadata": {
      "needs_background": "light"
     },
     "output_type": "display_data"
    }
   ],
   "source": [
    "sns.regplot(data=housing, x=\"MSZoning\", y=\"SalePrice\", x_jitter=0.4, scatter_kws={\"alpha\":0.3})"
   ]
  },
  {
   "cell_type": "markdown",
   "metadata": {},
   "source": [
    "哎呀我去，我就随便一对应，没想到对应出来一个正相关。"
   ]
  },
  {
   "cell_type": "markdown",
   "metadata": {},
   "source": [
    "#### LotFrontage: Linear feet of street connected to property\n",
    "#### 地块临街：连接到地产的街道的直线英尺"
   ]
  },
  {
   "cell_type": "code",
   "execution_count": 23,
   "metadata": {},
   "outputs": [
    {
     "data": {
      "text/plain": [
       "0       65.0\n",
       "1       80.0\n",
       "2       68.0\n",
       "3       60.0\n",
       "4       84.0\n",
       "        ... \n",
       "1455    62.0\n",
       "1456    85.0\n",
       "1457    66.0\n",
       "1458    68.0\n",
       "1459    75.0\n",
       "Name: LotFrontage, Length: 1460, dtype: float64"
      ]
     },
     "execution_count": 23,
     "metadata": {},
     "output_type": "execute_result"
    }
   ],
   "source": [
    "housing[\"LotFrontage\"]"
   ]
  },
  {
   "cell_type": "code",
   "execution_count": 24,
   "metadata": {},
   "outputs": [
    {
     "data": {
      "text/plain": [
       "259"
      ]
     },
     "execution_count": 24,
     "metadata": {},
     "output_type": "execute_result"
    }
   ],
   "source": [
    "housing[\"LotFrontage\"].isnull().sum()"
   ]
  },
  {
   "cell_type": "markdown",
   "metadata": {},
   "source": [
    "终于找到一个含有缺失值的了，LotFrontage列含有259个缺失值，这时候，我们需要对缺失值做填充。\n",
    "\n",
    "我比较喜欢的一种方案是利用均值和标准差的信息进行填充。\n",
    "\n",
    "当然，并不是只有LotFrontage采用缺失值，所以我们可以把缺失值填充抽象成一个函数。"
   ]
  },
  {
   "cell_type": "code",
   "execution_count": 25,
   "metadata": {},
   "outputs": [],
   "source": [
    "def fill_null(df, col):\n",
    "    mean = df[col].dropna().mean()\n",
    "    std = df[col].dropna().std()\n",
    "    null_sum = df[col].isnull().sum()\n",
    "    fill_num = np.random.randint(mean - std, mean + std, null_sum)\n",
    "    df.loc[df[col].isnull(), col] = fill_num"
   ]
  },
  {
   "cell_type": "code",
   "execution_count": 26,
   "metadata": {},
   "outputs": [],
   "source": [
    "fill_null(housing, \"LotFrontage\")"
   ]
  },
  {
   "cell_type": "code",
   "execution_count": 28,
   "metadata": {},
   "outputs": [
    {
     "data": {
      "text/plain": [
       "<matplotlib.axes._subplots.AxesSubplot at 0x2346d175848>"
      ]
     },
     "execution_count": 28,
     "metadata": {},
     "output_type": "execute_result"
    },
    {
     "data": {
      "image/png": "[encoded data removed]",
      "text/plain": [
       "<Figure size 432x288 with 1 Axes>"
      ]
     },
     "metadata": {
      "needs_background": "light"
     },
     "output_type": "display_data"
    }
   ],
   "source": [
    "sns.regplot(data=housing, x=\"LotFrontage\", y=\"SalePrice\", scatter_kws={\"alpha\":0.3})"
   ]
  },
  {
   "cell_type": "markdown",
   "metadata": {},
   "source": [
    "这么一看的话，LotFrontage和SalePrice也是成正相关的关系。"
   ]
  },
  {
   "cell_type": "markdown",
   "metadata": {},
   "source": [
    "#### LotArea: Lot size in square feet"
   ]
  },
  {
   "cell_type": "code",
   "execution_count": 30,
   "metadata": {},
   "outputs": [
    {
     "data": {
      "text/plain": [
       "0"
      ]
     },
     "execution_count": 30,
     "metadata": {},
     "output_type": "execute_result"
    }
   ],
   "source": [
    "housing[\"LotArea\"].isnull().sum()"
   ]
  },
  {
   "cell_type": "code",
   "execution_count": 35,
   "metadata": {},
   "outputs": [
    {
     "data": {
      "text/plain": [
       "<matplotlib.axes._subplots.AxesSubplot at 0x2346e100d48>"
      ]
     },
     "execution_count": 35,
     "metadata": {},
     "output_type": "execute_result"
    },
    {
     "data": {
      "image/png": "[encoded data removed]",
      "text/plain": [
       "<Figure size 432x288 with 1 Axes>"
      ]
     },
     "metadata": {
      "needs_background": "light"
     },
     "output_type": "display_data"
    }
   ],
   "source": [
    "sns.regplot(data=housing, x=\"LotArea\", y=\"SalePrice\", scatter_kws={\"alpha\":0.4})"
   ]
  },
  {
   "cell_type": "markdown",
   "metadata": {},
   "source": [
    "### 总结\n",
    "\n",
    "找一下套路，对于每一个特征数据：\n",
    "\n",
    "    1.判断该列数据是不是数值\n",
    "\n",
    "        1.1、"
   ]
  }
 ],
 "metadata": {
  "kernelspec": {
   "display_name": "PyCharm (PythonAI)",
   "language": "python",
   "name": "pycharm-62b0c9c"
  },
  "language_info": {
   "codemirror_mode": {
    "name": "ipython",
    "version": 3
   },
   "file_extension": ".py",
   "mimetype": "text/x-python",
   "name": "python",
   "nbconvert_exporter": "python",
   "pygments_lexer": "ipython3",
   "version": "3.7.6"
  },
  "pycharm": {
   "stem_cell": {
    "cell_type": "raw",
    "source": [],
    "metadata": {
     "collapsed": false
    }
   }
  }
 },
 "nbformat": 4,
 "nbformat_minor": 1
}