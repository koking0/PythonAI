{
 "cells": [
  {
   "cell_type": "code",
   "execution_count": 1,
   "metadata": {},
   "outputs": [],
   "source": [
    "import numpy as np\n",
    "import pandas as pd\n",
    "import matplotlib.pyplot as plt\n",
    "import tushare as ts"
   ]
  },
  {
   "cell_type": "code",
   "execution_count": 2,
   "metadata": {},
   "outputs": [
    {
     "data": {
      "text/html": [
       "<div>\n",
       "<style scoped>\n",
       "    .dataframe tbody tr th:only-of-type {\n",
       "        vertical-align: middle;\n",
       "    }\n",
       "\n",
       "    .dataframe tbody tr th {\n",
       "        vertical-align: top;\n",
       "    }\n",
       "\n",
       "    .dataframe thead th {\n",
       "        text-align: right;\n",
       "    }\n",
       "</style>\n",
       "<table border=\"1\" class=\"dataframe\">\n",
       "  <thead>\n",
       "    <tr style=\"text-align: right;\">\n",
       "      <th></th>\n",
       "      <th>open</th>\n",
       "      <th>close</th>\n",
       "      <th>low</th>\n",
       "      <th>high</th>\n",
       "    </tr>\n",
       "    <tr>\n",
       "      <th>date</th>\n",
       "      <th></th>\n",
       "      <th></th>\n",
       "      <th></th>\n",
       "      <th></th>\n",
       "    </tr>\n",
       "  </thead>\n",
       "  <tbody>\n",
       "    <tr>\n",
       "      <td>2007-03-01</td>\n",
       "      <td>21.878</td>\n",
       "      <td>20.473</td>\n",
       "      <td>20.040</td>\n",
       "      <td>22.302</td>\n",
       "    </tr>\n",
       "    <tr>\n",
       "      <td>2007-03-02</td>\n",
       "      <td>20.565</td>\n",
       "      <td>20.307</td>\n",
       "      <td>20.075</td>\n",
       "      <td>20.758</td>\n",
       "    </tr>\n",
       "    <tr>\n",
       "      <td>2007-03-05</td>\n",
       "      <td>20.119</td>\n",
       "      <td>19.419</td>\n",
       "      <td>19.047</td>\n",
       "      <td>20.202</td>\n",
       "    </tr>\n",
       "    <tr>\n",
       "      <td>2007-03-06</td>\n",
       "      <td>19.253</td>\n",
       "      <td>19.800</td>\n",
       "      <td>19.143</td>\n",
       "      <td>20.128</td>\n",
       "    </tr>\n",
       "    <tr>\n",
       "      <td>2007-03-07</td>\n",
       "      <td>19.817</td>\n",
       "      <td>20.338</td>\n",
       "      <td>19.651</td>\n",
       "      <td>20.522</td>\n",
       "    </tr>\n",
       "    <tr>\n",
       "      <td>...</td>\n",
       "      <td>...</td>\n",
       "      <td>...</td>\n",
       "      <td>...</td>\n",
       "      <td>...</td>\n",
       "    </tr>\n",
       "    <tr>\n",
       "      <td>2017-12-11</td>\n",
       "      <td>71.200</td>\n",
       "      <td>73.250</td>\n",
       "      <td>70.820</td>\n",
       "      <td>73.310</td>\n",
       "    </tr>\n",
       "    <tr>\n",
       "      <td>2017-12-12</td>\n",
       "      <td>73.250</td>\n",
       "      <td>71.210</td>\n",
       "      <td>71.170</td>\n",
       "      <td>73.560</td>\n",
       "    </tr>\n",
       "    <tr>\n",
       "      <td>2017-12-13</td>\n",
       "      <td>71.210</td>\n",
       "      <td>72.120</td>\n",
       "      <td>70.200</td>\n",
       "      <td>72.620</td>\n",
       "    </tr>\n",
       "    <tr>\n",
       "      <td>2017-12-14</td>\n",
       "      <td>72.120</td>\n",
       "      <td>71.010</td>\n",
       "      <td>70.600</td>\n",
       "      <td>72.160</td>\n",
       "    </tr>\n",
       "    <tr>\n",
       "      <td>2017-12-15</td>\n",
       "      <td>70.690</td>\n",
       "      <td>70.380</td>\n",
       "      <td>70.050</td>\n",
       "      <td>71.440</td>\n",
       "    </tr>\n",
       "  </tbody>\n",
       "</table>\n",
       "<p>2563 rows × 4 columns</p>\n",
       "</div>"
      ],
      "text/plain": [
       "              open   close     low    high\n",
       "date                                      \n",
       "2007-03-01  21.878  20.473  20.040  22.302\n",
       "2007-03-02  20.565  20.307  20.075  20.758\n",
       "2007-03-05  20.119  19.419  19.047  20.202\n",
       "2007-03-06  19.253  19.800  19.143  20.128\n",
       "2007-03-07  19.817  20.338  19.651  20.522\n",
       "...            ...     ...     ...     ...\n",
       "2017-12-11  71.200  73.250  70.820  73.310\n",
       "2017-12-12  73.250  71.210  71.170  73.560\n",
       "2017-12-13  71.210  72.120  70.200  72.620\n",
       "2017-12-14  72.120  71.010  70.600  72.160\n",
       "2017-12-15  70.690  70.380  70.050  71.440\n",
       "\n",
       "[2563 rows x 4 columns]"
      ]
     },
     "execution_count": 2,
     "metadata": {},
     "output_type": "execute_result"
    }
   ],
   "source": [
    "df = pd.read_csv(\"601318.csv\",index_col='date', parse_dates=['date'])[['open','close','low','high']]\n",
    "df"
   ]
  },
  {
   "cell_type": "code",
   "execution_count": 3,
   "metadata": {
    "scrolled": true
   },
   "outputs": [
    {
     "data": {
      "text/html": [
       "<div>\n",
       "<style scoped>\n",
       "    .dataframe tbody tr th:only-of-type {\n",
       "        vertical-align: middle;\n",
       "    }\n",
       "\n",
       "    .dataframe tbody tr th {\n",
       "        vertical-align: top;\n",
       "    }\n",
       "\n",
       "    .dataframe thead th {\n",
       "        text-align: right;\n",
       "    }\n",
       "</style>\n",
       "<table border=\"1\" class=\"dataframe\">\n",
       "  <thead>\n",
       "    <tr style=\"text-align: right;\">\n",
       "      <th></th>\n",
       "      <th>open</th>\n",
       "      <th>close</th>\n",
       "      <th>low</th>\n",
       "      <th>high</th>\n",
       "      <th>ma5</th>\n",
       "      <th>ma30</th>\n",
       "    </tr>\n",
       "    <tr>\n",
       "      <th>date</th>\n",
       "      <th></th>\n",
       "      <th></th>\n",
       "      <th></th>\n",
       "      <th></th>\n",
       "      <th></th>\n",
       "      <th></th>\n",
       "    </tr>\n",
       "  </thead>\n",
       "  <tbody>\n",
       "    <tr>\n",
       "      <td>2007-03-01</td>\n",
       "      <td>21.878</td>\n",
       "      <td>20.473</td>\n",
       "      <td>20.040</td>\n",
       "      <td>22.302</td>\n",
       "      <td>NaN</td>\n",
       "      <td>NaN</td>\n",
       "    </tr>\n",
       "    <tr>\n",
       "      <td>2007-03-02</td>\n",
       "      <td>20.565</td>\n",
       "      <td>20.307</td>\n",
       "      <td>20.075</td>\n",
       "      <td>20.758</td>\n",
       "      <td>NaN</td>\n",
       "      <td>NaN</td>\n",
       "    </tr>\n",
       "    <tr>\n",
       "      <td>2007-03-05</td>\n",
       "      <td>20.119</td>\n",
       "      <td>19.419</td>\n",
       "      <td>19.047</td>\n",
       "      <td>20.202</td>\n",
       "      <td>NaN</td>\n",
       "      <td>NaN</td>\n",
       "    </tr>\n",
       "    <tr>\n",
       "      <td>2007-03-06</td>\n",
       "      <td>19.253</td>\n",
       "      <td>19.800</td>\n",
       "      <td>19.143</td>\n",
       "      <td>20.128</td>\n",
       "      <td>NaN</td>\n",
       "      <td>NaN</td>\n",
       "    </tr>\n",
       "    <tr>\n",
       "      <td>2007-03-07</td>\n",
       "      <td>19.817</td>\n",
       "      <td>20.338</td>\n",
       "      <td>19.651</td>\n",
       "      <td>20.522</td>\n",
       "      <td>20.3264</td>\n",
       "      <td>NaN</td>\n",
       "    </tr>\n",
       "    <tr>\n",
       "      <td>...</td>\n",
       "      <td>...</td>\n",
       "      <td>...</td>\n",
       "      <td>...</td>\n",
       "      <td>...</td>\n",
       "      <td>...</td>\n",
       "      <td>...</td>\n",
       "    </tr>\n",
       "    <tr>\n",
       "      <td>2017-12-11</td>\n",
       "      <td>71.200</td>\n",
       "      <td>73.250</td>\n",
       "      <td>70.820</td>\n",
       "      <td>73.310</td>\n",
       "      <td>69.8580</td>\n",
       "      <td>69.744667</td>\n",
       "    </tr>\n",
       "    <tr>\n",
       "      <td>2017-12-12</td>\n",
       "      <td>73.250</td>\n",
       "      <td>71.210</td>\n",
       "      <td>71.170</td>\n",
       "      <td>73.560</td>\n",
       "      <td>70.7280</td>\n",
       "      <td>70.069667</td>\n",
       "    </tr>\n",
       "    <tr>\n",
       "      <td>2017-12-13</td>\n",
       "      <td>71.210</td>\n",
       "      <td>72.120</td>\n",
       "      <td>70.200</td>\n",
       "      <td>72.620</td>\n",
       "      <td>70.7900</td>\n",
       "      <td>70.294333</td>\n",
       "    </tr>\n",
       "    <tr>\n",
       "      <td>2017-12-14</td>\n",
       "      <td>72.120</td>\n",
       "      <td>71.010</td>\n",
       "      <td>70.600</td>\n",
       "      <td>72.160</td>\n",
       "      <td>71.3440</td>\n",
       "      <td>70.558333</td>\n",
       "    </tr>\n",
       "    <tr>\n",
       "      <td>2017-12-15</td>\n",
       "      <td>70.690</td>\n",
       "      <td>70.380</td>\n",
       "      <td>70.050</td>\n",
       "      <td>71.440</td>\n",
       "      <td>71.6940</td>\n",
       "      <td>70.781333</td>\n",
       "    </tr>\n",
       "  </tbody>\n",
       "</table>\n",
       "<p>2563 rows × 6 columns</p>\n",
       "</div>"
      ],
      "text/plain": [
       "              open   close     low    high      ma5       ma30\n",
       "date                                                          \n",
       "2007-03-01  21.878  20.473  20.040  22.302      NaN        NaN\n",
       "2007-03-02  20.565  20.307  20.075  20.758      NaN        NaN\n",
       "2007-03-05  20.119  19.419  19.047  20.202      NaN        NaN\n",
       "2007-03-06  19.253  19.800  19.143  20.128      NaN        NaN\n",
       "2007-03-07  19.817  20.338  19.651  20.522  20.3264        NaN\n",
       "...            ...     ...     ...     ...      ...        ...\n",
       "2017-12-11  71.200  73.250  70.820  73.310  69.8580  69.744667\n",
       "2017-12-12  73.250  71.210  71.170  73.560  70.7280  70.069667\n",
       "2017-12-13  71.210  72.120  70.200  72.620  70.7900  70.294333\n",
       "2017-12-14  72.120  71.010  70.600  72.160  71.3440  70.558333\n",
       "2017-12-15  70.690  70.380  70.050  71.440  71.6940  70.781333\n",
       "\n",
       "[2563 rows x 6 columns]"
      ]
     },
     "execution_count": 3,
     "metadata": {},
     "output_type": "execute_result"
    }
   ],
   "source": [
    "# df['ma5'] = np.nan\n",
    "# df['ma30'] = np.nan\n",
    "\n",
    "# for i in range(4, len(df)):\n",
    "#     df.loc[df.index[i],'ma5'] = df['close'][i-4:i+1].mean()\n",
    "\n",
    "# for i in range(29, len(df)):\n",
    "#     df.loc[df.index[i],'ma30'] = df['close'][i-29:i+1].mean()\n",
    "    \n",
    "df['ma5']=df['open'].rolling(5).mean()\n",
    "df['ma30']=df['open'].rolling(30).mean()\n",
    "df"
   ]
  },
  {
   "cell_type": "code",
   "execution_count": 4,
   "metadata": {},
   "outputs": [
    {
     "data": {
      "image/png": "[encoded data removed]",
      "text/plain": [
       "<Figure size 432x288 with 1 Axes>"
      ]
     },
     "metadata": {
      "needs_background": "light"
     },
     "output_type": "display_data"
    }
   ],
   "source": [
    "df[['close','ma5','ma30']].plot()\n",
    "plt.show()"
   ]
  },
  {
   "cell_type": "code",
   "execution_count": 5,
   "metadata": {},
   "outputs": [],
   "source": [
    "df = df.dropna()\n",
    "df = df['2010-01-01':]"
   ]
  },
  {
   "cell_type": "code",
   "execution_count": 6,
   "metadata": {},
   "outputs": [
    {
     "data": {
      "text/plain": [
       "DatetimeIndex(['2010-03-23', '2010-06-24', '2010-12-10', '2011-02-21',\n",
       "               '2011-03-04', '2011-04-07', '2011-07-01', '2011-10-28',\n",
       "               '2012-01-16', '2012-04-18', '2012-06-13', '2012-09-13',\n",
       "               '2012-09-28', '2012-12-10', '2013-04-23', '2013-05-09',\n",
       "               '2013-08-14', '2013-10-15', '2013-11-04', '2014-01-22',\n",
       "               '2014-04-02', '2014-05-29', '2014-07-07', '2014-09-09',\n",
       "               '2014-11-03', '2015-03-17', '2015-05-26', '2015-06-09',\n",
       "               '2015-09-23', '2015-12-07', '2015-12-18', '2016-03-07',\n",
       "               '2016-06-01', '2016-07-04', '2016-08-10', '2016-11-01',\n",
       "               '2017-01-18', '2017-03-27', '2017-04-27', '2017-08-22',\n",
       "               '2017-10-12', '2017-12-11'],\n",
       "              dtype='datetime64[ns]', name='date', freq=None)"
      ]
     },
     "execution_count": 6,
     "metadata": {},
     "output_type": "execute_result"
    }
   ],
   "source": [
    "# golden_cross = []\n",
    "# death_cross = []\n",
    "# for i in range(1,len(df)):\n",
    "#     if df['ma5'][i] >= df['ma30'][i] and df['ma5'][i-1] < df['ma30'][i-1]:\n",
    "#         golden_cross.append(df.index[i].to_pydatetime())\n",
    "#     if df['ma5'][i] <= df['ma30'][i] and df['ma5'][i-1] > df['ma30'][i-1]:\n",
    "#         death_cross.append(df.index[i].to_pydatetime())\n",
    "\n",
    "sr1 = df['ma5'] < df['ma30']\n",
    "sr2 = df['ma5'] >= df['ma30']\n",
    "\n",
    "death_cross = df[sr1 & sr2.shift(1)].index\n",
    "golden_cross = df[~(sr1 | sr2.shift(1))].index"
   ]
  },
  {
   "cell_type": "code",
   "execution_count": 8,
   "metadata": {},
   "outputs": [
    {
     "data": {
      "text/plain": [
       "DatetimeIndex(['2010-04-30', '2010-11-17', '2010-12-21', '2011-02-24',\n",
       "               '2011-03-18', '2011-05-05', '2011-07-25', '2011-11-22',\n",
       "               '2012-03-09', '2012-06-06', '2012-07-27', '2012-09-18',\n",
       "               '2012-10-30', '2013-02-26', '2013-04-25', '2013-05-15',\n",
       "               '2013-10-09', '2013-10-18', '2013-12-24', '2014-01-29',\n",
       "               '2014-05-21', '2014-06-27', '2014-08-27', '2014-09-15',\n",
       "               '2015-02-02', '2015-05-19', '2015-06-03', '2015-06-19',\n",
       "               '2015-12-02', '2015-12-10', '2016-01-06', '2016-05-09',\n",
       "               '2016-06-28', '2016-08-09', '2016-09-30', '2016-12-21',\n",
       "               '2017-03-03', '2017-04-14', '2017-08-11', '2017-09-21',\n",
       "               '2017-12-08'],\n",
       "              dtype='datetime64[ns]', name='date', freq=None)"
      ]
     },
     "execution_count": 8,
     "metadata": {},
     "output_type": "execute_result"
    }
   ],
   "source": [
    "death_cross"
   ]
  },
  {
   "cell_type": "code",
   "execution_count": 9,
   "metadata": {},
   "outputs": [
    {
     "data": {
      "text/plain": [
       "DatetimeIndex(['2010-03-23', '2010-06-24', '2010-12-10', '2011-02-21',\n",
       "               '2011-03-04', '2011-04-07', '2011-07-01', '2011-10-28',\n",
       "               '2012-01-16', '2012-04-18', '2012-06-13', '2012-09-13',\n",
       "               '2012-09-28', '2012-12-10', '2013-04-23', '2013-05-09',\n",
       "               '2013-08-14', '2013-10-15', '2013-11-04', '2014-01-22',\n",
       "               '2014-04-02', '2014-05-29', '2014-07-07', '2014-09-09',\n",
       "               '2014-11-03', '2015-03-17', '2015-05-26', '2015-06-09',\n",
       "               '2015-09-23', '2015-12-07', '2015-12-18', '2016-03-07',\n",
       "               '2016-06-01', '2016-07-04', '2016-08-10', '2016-11-01',\n",
       "               '2017-01-18', '2017-03-27', '2017-04-27', '2017-08-22',\n",
       "               '2017-10-12', '2017-12-11'],\n",
       "              dtype='datetime64[ns]', name='date', freq=None)"
      ]
     },
     "execution_count": 9,
     "metadata": {},
     "output_type": "execute_result"
    }
   ],
   "source": [
    "golden_cross"
   ]
  },
  {
   "cell_type": "code",
   "execution_count": 7,
   "metadata": {},
   "outputs": [
    {
     "name": "stdout",
     "output_type": "stream",
     "text": [
      "175593.89999999997\n"
     ]
    }
   ],
   "source": [
    "first_money = 100000\n",
    "money = first_money\n",
    "hold = 0#持有多少股\n",
    "sr1 = pd.Series(1, index=golden_cross)\n",
    "sr2 = pd.Series(0, index=death_cross)\n",
    "sr = sr1.append(sr2).sort_index()\n",
    "\n",
    "for i in range(0, len(sr)):\n",
    "    p = df['open'][sr.index[i]]\n",
    "    if sr.iloc[i] == 1:\n",
    "        #金叉\n",
    "        buy = (money // (100 * p))\n",
    "        hold += buy*100\n",
    "        money -= buy*100*p\n",
    "    else:\n",
    "        money += hold * p\n",
    "        hold = 0\n",
    "\n",
    "p = df['open'][-1]\n",
    "now_money = hold * p + money\n",
    "\n",
    "print(now_money - first_money)"
   ]
  },
  {
   "cell_type": "code",
   "execution_count": null,
   "metadata": {},
   "outputs": [],
   "source": []
  },
  {
   "cell_type": "code",
   "execution_count": null,
   "metadata": {},
   "outputs": [],
   "source": []
  }
 ],
 "metadata": {
  "kernelspec": {
   "display_name": "Python 3",
   "language": "python",
   "name": "python3"
  },
  "language_info": {
   "codemirror_mode": {
    "name": "ipython",
    "version": 3
   },
   "file_extension": ".py",
   "mimetype": "text/x-python",
   "name": "python",
   "nbconvert_exporter": "python",
   "pygments_lexer": "ipython3",
   "version": "3.7.4"
  }
 },
 "nbformat": 4,
 "nbformat_minor": 1
}
