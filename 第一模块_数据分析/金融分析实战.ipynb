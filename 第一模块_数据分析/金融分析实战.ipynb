{
 "cells": [
  {
   "cell_type": "markdown",
   "metadata": {
    "collapsed": true
   },
   "source": [
    "# Tushare——金融数据接口包\n",
    "\n",
    "Tushare是一个免费、开源的python财经数据接口包。"
   ]
  },
  {
   "cell_type": "code",
   "execution_count": 3,
   "metadata": {},
   "outputs": [
    {
     "name": "stdout",
     "output_type": "stream",
     "text": [
      "Looking in indexes: http://mirrors.aliyun.com/pypi/simple/\n",
      "Collecting tushare\n",
      "\u001b[?25l  Downloading http://mirrors.aliyun.com/pypi/packages/bf/3f/149ef2a80cddd24410e6788228a22f3b3afb5c55c765a223a5c7ecf93ecf/tushare-1.2.48-py3-none-any.whl (211kB)\n",
      "\u001b[K     |████████████████████████████████| 215kB 4.2MB/s eta 0:00:01\n",
      "\u001b[?25hInstalling collected packages: tushare\n",
      "Successfully installed tushare-1.2.48\n"
     ]
    }
   ],
   "source": [
    "!pip install tushare --trusted-host mirrors.aliyun.com"
   ]
  },
  {
   "cell_type": "code",
   "execution_count": 9,
   "metadata": {},
   "outputs": [],
   "source": [
    "import numpy as np\n",
    "import pandas as pd\n",
    "import tushare as ts\n",
    "import matplotlib.pyplot as plt"
   ]
  },
  {
   "cell_type": "code",
   "execution_count": 15,
   "metadata": {},
   "outputs": [],
   "source": [
    "df = ts.get_k_data(\"600519\", start=\"2000-1-1\")"
   ]
  },
  {
   "cell_type": "code",
   "execution_count": 16,
   "metadata": {},
   "outputs": [
    {
     "data": {
      "text/html": [
       "<div>\n",
       "<style scoped>\n",
       "    .dataframe tbody tr th:only-of-type {\n",
       "        vertical-align: middle;\n",
       "    }\n",
       "\n",
       "    .dataframe tbody tr th {\n",
       "        vertical-align: top;\n",
       "    }\n",
       "\n",
       "    .dataframe thead th {\n",
       "        text-align: right;\n",
       "    }\n",
       "</style>\n",
       "<table border=\"1\" class=\"dataframe\">\n",
       "  <thead>\n",
       "    <tr style=\"text-align: right;\">\n",
       "      <th></th>\n",
       "      <th>date</th>\n",
       "      <th>open</th>\n",
       "      <th>close</th>\n",
       "      <th>high</th>\n",
       "      <th>low</th>\n",
       "      <th>volume</th>\n",
       "      <th>code</th>\n",
       "    </tr>\n",
       "  </thead>\n",
       "  <tbody>\n",
       "    <tr>\n",
       "      <td>0</td>\n",
       "      <td>2001-08-27</td>\n",
       "      <td>5.392</td>\n",
       "      <td>5.554</td>\n",
       "      <td>5.902</td>\n",
       "      <td>5.132</td>\n",
       "      <td>406318.00</td>\n",
       "      <td>600519</td>\n",
       "    </tr>\n",
       "    <tr>\n",
       "      <td>1</td>\n",
       "      <td>2001-08-28</td>\n",
       "      <td>5.467</td>\n",
       "      <td>5.759</td>\n",
       "      <td>5.781</td>\n",
       "      <td>5.407</td>\n",
       "      <td>129647.79</td>\n",
       "      <td>600519</td>\n",
       "    </tr>\n",
       "    <tr>\n",
       "      <td>2</td>\n",
       "      <td>2001-08-29</td>\n",
       "      <td>5.777</td>\n",
       "      <td>5.684</td>\n",
       "      <td>5.781</td>\n",
       "      <td>5.640</td>\n",
       "      <td>53252.75</td>\n",
       "      <td>600519</td>\n",
       "    </tr>\n",
       "    <tr>\n",
       "      <td>3</td>\n",
       "      <td>2001-08-30</td>\n",
       "      <td>5.668</td>\n",
       "      <td>5.796</td>\n",
       "      <td>5.860</td>\n",
       "      <td>5.624</td>\n",
       "      <td>48013.06</td>\n",
       "      <td>600519</td>\n",
       "    </tr>\n",
       "    <tr>\n",
       "      <td>4</td>\n",
       "      <td>2001-08-31</td>\n",
       "      <td>5.804</td>\n",
       "      <td>5.782</td>\n",
       "      <td>5.877</td>\n",
       "      <td>5.749</td>\n",
       "      <td>23231.48</td>\n",
       "      <td>600519</td>\n",
       "    </tr>\n",
       "    <tr>\n",
       "      <td>...</td>\n",
       "      <td>...</td>\n",
       "      <td>...</td>\n",
       "      <td>...</td>\n",
       "      <td>...</td>\n",
       "      <td>...</td>\n",
       "      <td>...</td>\n",
       "      <td>...</td>\n",
       "    </tr>\n",
       "    <tr>\n",
       "      <td>4385</td>\n",
       "      <td>2020-01-13</td>\n",
       "      <td>1112.500</td>\n",
       "      <td>1124.270</td>\n",
       "      <td>1129.200</td>\n",
       "      <td>1112.000</td>\n",
       "      <td>38515.00</td>\n",
       "      <td>600519</td>\n",
       "    </tr>\n",
       "    <tr>\n",
       "      <td>4386</td>\n",
       "      <td>2020-01-14</td>\n",
       "      <td>1124.200</td>\n",
       "      <td>1107.400</td>\n",
       "      <td>1124.890</td>\n",
       "      <td>1103.000</td>\n",
       "      <td>35144.00</td>\n",
       "      <td>600519</td>\n",
       "    </tr>\n",
       "    <tr>\n",
       "      <td>4387</td>\n",
       "      <td>2020-01-15</td>\n",
       "      <td>1109.010</td>\n",
       "      <td>1112.130</td>\n",
       "      <td>1121.600</td>\n",
       "      <td>1105.000</td>\n",
       "      <td>26029.00</td>\n",
       "      <td>600519</td>\n",
       "    </tr>\n",
       "    <tr>\n",
       "      <td>4388</td>\n",
       "      <td>2020-01-16</td>\n",
       "      <td>1118.870</td>\n",
       "      <td>1107.000</td>\n",
       "      <td>1118.870</td>\n",
       "      <td>1102.580</td>\n",
       "      <td>23191.00</td>\n",
       "      <td>600519</td>\n",
       "    </tr>\n",
       "    <tr>\n",
       "      <td>4389</td>\n",
       "      <td>2020-01-17</td>\n",
       "      <td>1110.000</td>\n",
       "      <td>1107.500</td>\n",
       "      <td>1112.780</td>\n",
       "      <td>1101.010</td>\n",
       "      <td>23472.00</td>\n",
       "      <td>600519</td>\n",
       "    </tr>\n",
       "  </tbody>\n",
       "</table>\n",
       "<p>4390 rows × 7 columns</p>\n",
       "</div>"
      ],
      "text/plain": [
       "            date      open     close      high       low     volume    code\n",
       "0     2001-08-27     5.392     5.554     5.902     5.132  406318.00  600519\n",
       "1     2001-08-28     5.467     5.759     5.781     5.407  129647.79  600519\n",
       "2     2001-08-29     5.777     5.684     5.781     5.640   53252.75  600519\n",
       "3     2001-08-30     5.668     5.796     5.860     5.624   48013.06  600519\n",
       "4     2001-08-31     5.804     5.782     5.877     5.749   23231.48  600519\n",
       "...          ...       ...       ...       ...       ...        ...     ...\n",
       "4385  2020-01-13  1112.500  1124.270  1129.200  1112.000   38515.00  600519\n",
       "4386  2020-01-14  1124.200  1107.400  1124.890  1103.000   35144.00  600519\n",
       "4387  2020-01-15  1109.010  1112.130  1121.600  1105.000   26029.00  600519\n",
       "4388  2020-01-16  1118.870  1107.000  1118.870  1102.580   23191.00  600519\n",
       "4389  2020-01-17  1110.000  1107.500  1112.780  1101.010   23472.00  600519\n",
       "\n",
       "[4390 rows x 7 columns]"
      ]
     },
     "execution_count": 16,
     "metadata": {},
     "output_type": "execute_result"
    }
   ],
   "source": [
    "df"
   ]
  },
  {
   "cell_type": "code",
   "execution_count": 17,
   "metadata": {},
   "outputs": [],
   "source": [
    "df.to_csv(\"600519.csv\")"
   ]
  },
  {
   "cell_type": "code",
   "execution_count": 18,
   "metadata": {},
   "outputs": [],
   "source": [
    "df = pd.read_csv(\"600519.csv\", index_col='date', parse_dates=['date'])[['open', 'close', 'high', 'low']]"
   ]
  },
  {
   "cell_type": "code",
   "execution_count": 19,
   "metadata": {},
   "outputs": [
    {
     "data": {
      "text/html": [
       "<div>\n",
       "<style scoped>\n",
       "    .dataframe tbody tr th:only-of-type {\n",
       "        vertical-align: middle;\n",
       "    }\n",
       "\n",
       "    .dataframe tbody tr th {\n",
       "        vertical-align: top;\n",
       "    }\n",
       "\n",
       "    .dataframe thead th {\n",
       "        text-align: right;\n",
       "    }\n",
       "</style>\n",
       "<table border=\"1\" class=\"dataframe\">\n",
       "  <thead>\n",
       "    <tr style=\"text-align: right;\">\n",
       "      <th></th>\n",
       "      <th>open</th>\n",
       "      <th>close</th>\n",
       "      <th>high</th>\n",
       "      <th>low</th>\n",
       "    </tr>\n",
       "    <tr>\n",
       "      <th>date</th>\n",
       "      <th></th>\n",
       "      <th></th>\n",
       "      <th></th>\n",
       "      <th></th>\n",
       "    </tr>\n",
       "  </thead>\n",
       "  <tbody>\n",
       "    <tr>\n",
       "      <td>2001-08-27</td>\n",
       "      <td>5.392</td>\n",
       "      <td>5.554</td>\n",
       "      <td>5.902</td>\n",
       "      <td>5.132</td>\n",
       "    </tr>\n",
       "    <tr>\n",
       "      <td>2001-08-28</td>\n",
       "      <td>5.467</td>\n",
       "      <td>5.759</td>\n",
       "      <td>5.781</td>\n",
       "      <td>5.407</td>\n",
       "    </tr>\n",
       "    <tr>\n",
       "      <td>2001-08-29</td>\n",
       "      <td>5.777</td>\n",
       "      <td>5.684</td>\n",
       "      <td>5.781</td>\n",
       "      <td>5.640</td>\n",
       "    </tr>\n",
       "    <tr>\n",
       "      <td>2001-08-30</td>\n",
       "      <td>5.668</td>\n",
       "      <td>5.796</td>\n",
       "      <td>5.860</td>\n",
       "      <td>5.624</td>\n",
       "    </tr>\n",
       "    <tr>\n",
       "      <td>2001-08-31</td>\n",
       "      <td>5.804</td>\n",
       "      <td>5.782</td>\n",
       "      <td>5.877</td>\n",
       "      <td>5.749</td>\n",
       "    </tr>\n",
       "    <tr>\n",
       "      <td>...</td>\n",
       "      <td>...</td>\n",
       "      <td>...</td>\n",
       "      <td>...</td>\n",
       "      <td>...</td>\n",
       "    </tr>\n",
       "    <tr>\n",
       "      <td>2020-01-13</td>\n",
       "      <td>1112.500</td>\n",
       "      <td>1124.270</td>\n",
       "      <td>1129.200</td>\n",
       "      <td>1112.000</td>\n",
       "    </tr>\n",
       "    <tr>\n",
       "      <td>2020-01-14</td>\n",
       "      <td>1124.200</td>\n",
       "      <td>1107.400</td>\n",
       "      <td>1124.890</td>\n",
       "      <td>1103.000</td>\n",
       "    </tr>\n",
       "    <tr>\n",
       "      <td>2020-01-15</td>\n",
       "      <td>1109.010</td>\n",
       "      <td>1112.130</td>\n",
       "      <td>1121.600</td>\n",
       "      <td>1105.000</td>\n",
       "    </tr>\n",
       "    <tr>\n",
       "      <td>2020-01-16</td>\n",
       "      <td>1118.870</td>\n",
       "      <td>1107.000</td>\n",
       "      <td>1118.870</td>\n",
       "      <td>1102.580</td>\n",
       "    </tr>\n",
       "    <tr>\n",
       "      <td>2020-01-17</td>\n",
       "      <td>1110.000</td>\n",
       "      <td>1107.500</td>\n",
       "      <td>1112.780</td>\n",
       "      <td>1101.010</td>\n",
       "    </tr>\n",
       "  </tbody>\n",
       "</table>\n",
       "<p>4390 rows × 4 columns</p>\n",
       "</div>"
      ],
      "text/plain": [
       "                open     close      high       low\n",
       "date                                              \n",
       "2001-08-27     5.392     5.554     5.902     5.132\n",
       "2001-08-28     5.467     5.759     5.781     5.407\n",
       "2001-08-29     5.777     5.684     5.781     5.640\n",
       "2001-08-30     5.668     5.796     5.860     5.624\n",
       "2001-08-31     5.804     5.782     5.877     5.749\n",
       "...              ...       ...       ...       ...\n",
       "2020-01-13  1112.500  1124.270  1129.200  1112.000\n",
       "2020-01-14  1124.200  1107.400  1124.890  1103.000\n",
       "2020-01-15  1109.010  1112.130  1121.600  1105.000\n",
       "2020-01-16  1118.870  1107.000  1118.870  1102.580\n",
       "2020-01-17  1110.000  1107.500  1112.780  1101.010\n",
       "\n",
       "[4390 rows x 4 columns]"
      ]
     },
     "execution_count": 19,
     "metadata": {},
     "output_type": "execute_result"
    }
   ],
   "source": [
    "df"
   ]
  },
  {
   "cell_type": "markdown",
   "metadata": {},
   "source": [
    "输出该股票所有收盘比开盘上涨3%以上的日期"
   ]
  },
  {
   "cell_type": "code",
   "execution_count": 21,
   "metadata": {},
   "outputs": [
    {
     "data": {
      "text/plain": [
       "DatetimeIndex(['2001-08-27', '2001-08-28', '2001-09-10', '2001-12-21',\n",
       "               '2002-01-18', '2002-01-31', '2003-01-14', '2003-10-29',\n",
       "               '2004-01-05', '2004-01-14',\n",
       "               ...\n",
       "               '2019-03-01', '2019-03-18', '2019-04-10', '2019-04-16',\n",
       "               '2019-05-10', '2019-05-15', '2019-06-11', '2019-06-20',\n",
       "               '2019-09-12', '2019-09-18'],\n",
       "              dtype='datetime64[ns]', name='date', length=303, freq=None)"
      ]
     },
     "execution_count": 21,
     "metadata": {},
     "output_type": "execute_result"
    }
   ],
   "source": [
    "df[((df['close'] - df['open']) / df['open']) > 0.03].index"
   ]
  },
  {
   "cell_type": "markdown",
   "metadata": {},
   "source": [
    "输出该股票所有开盘比前日收盘跌幅超过2%的日期"
   ]
  },
  {
   "cell_type": "code",
   "execution_count": 25,
   "metadata": {},
   "outputs": [
    {
     "data": {
      "text/plain": [
       "DatetimeIndex(['2001-09-12', '2002-06-26', '2002-12-13', '2004-07-01',\n",
       "               '2004-10-29', '2006-08-21', '2006-08-23', '2007-01-25',\n",
       "               '2007-02-01', '2007-02-06', '2007-03-19', '2007-05-21',\n",
       "               '2007-05-30', '2007-06-05', '2007-07-27', '2007-09-05',\n",
       "               '2007-09-10', '2008-03-13', '2008-03-17', '2008-03-25',\n",
       "               '2008-03-27', '2008-04-22', '2008-04-23', '2008-04-29',\n",
       "               '2008-05-13', '2008-06-10', '2008-06-13', '2008-06-24',\n",
       "               '2008-06-27', '2008-08-11', '2008-08-19', '2008-09-23',\n",
       "               '2008-10-10', '2008-10-15', '2008-10-16', '2008-10-20',\n",
       "               '2008-10-23', '2008-10-27', '2008-11-06', '2008-11-12',\n",
       "               '2008-11-20', '2008-11-21', '2008-12-02', '2009-02-27',\n",
       "               '2009-03-25', '2009-08-13', '2010-04-26', '2010-04-30',\n",
       "               '2011-08-05', '2012-03-27', '2012-08-10', '2012-11-22',\n",
       "               '2012-12-04', '2012-12-24', '2013-01-16', '2013-01-25',\n",
       "               '2013-09-02', '2014-04-25', '2015-01-19', '2015-05-25',\n",
       "               '2015-07-03', '2015-07-08', '2015-07-13', '2015-08-24',\n",
       "               '2015-09-02', '2015-09-15', '2017-11-17', '2018-02-06',\n",
       "               '2018-02-09', '2018-03-23', '2018-03-28', '2018-07-11',\n",
       "               '2018-10-11', '2018-10-24', '2018-10-25', '2018-10-29',\n",
       "               '2018-10-30', '2019-05-06', '2019-05-08', '2019-10-16',\n",
       "               '2020-01-02'],\n",
       "              dtype='datetime64[ns]', name='date', freq=None)"
      ]
     },
     "execution_count": 25,
     "metadata": {},
     "output_type": "execute_result"
    }
   ],
   "source": [
    "df[((df['open'] - df['close'].shift(1)) / df['close'].shift(1)) <= -0.02].index"
   ]
  },
  {
   "cell_type": "markdown",
   "metadata": {},
   "source": [
    "假如从2010年1月1日开始，每月第一个交易日买入1手股票，每年最后一个交易日卖出所有股票，问收益如何"
   ]
  },
  {
   "cell_type": "code",
   "execution_count": null,
   "metadata": {},
   "outputs": [],
   "source": []
  }
 ],
 "metadata": {
  "kernelspec": {
   "display_name": "Python 3",
   "language": "python",
   "name": "python3"
  },
  "language_info": {
   "codemirror_mode": {
    "name": "ipython",
    "version": 3
   },
   "file_extension": ".py",
   "mimetype": "text/x-python",
   "name": "python",
   "nbconvert_exporter": "python",
   "pygments_lexer": "ipython3",
   "version": "3.7.4"
  }
 },
 "nbformat": 4,
 "nbformat_minor": 1
}
